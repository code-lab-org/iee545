{
 "cells": [
  {
   "cell_type": "markdown",
   "metadata": {},
   "source": [
    "# SYS 611: Demand Process Generator (Discrete IVT)\n",
    "\n",
    "Paul T. Grogan <pgrogan@stevens.edu>\n",
    "\n",
    "This example shows how to create a discrete proces generator using the inverse transform method.\n",
    "\n",
    "## Dependencies\n",
    "\n",
    "This example is compatible with Python 2 environments through use of the `__future__` library function. Additionally, this example uses the `numpy` and `matplotlib.pyplot` libraries."
   ]
  },
  {
   "cell_type": "code",
   "execution_count": 1,
   "metadata": {},
   "outputs": [],
   "source": [
    "# import the python3 behavior for importing, division, and printing in python2\n",
    "from __future__ import absolute_import, division, print_function\n",
    "\n",
    "# import the numpy package and refer to it as `np`\n",
    "# see http://docs.scipy.org/doc/numpy/reference/ for documentation\n",
    "import numpy as np\n",
    "\n",
    "# import the matplotlib pyplot package and refer to it as `plt`\n",
    "# see http://matplotlib.org/api/pyplot_api.html for documentation\n",
    "import matplotlib.pyplot as plt"
   ]
  },
  {
   "cell_type": "markdown",
   "metadata": {},
   "source": [
    "## Source Data\n",
    "\n",
    "This process generator will generate new demands for coffee based on size. Values are encided by zero-based indices with none=0, small=1, medium=2, large=3. To fit the underlying probability distribution, 50 observations record 8 customers with no coffee order, 10 for small, 22 for medium, and 10 for large."
   ]
  },
  {
   "cell_type": "code",
   "execution_count": 3,
   "metadata": {},
   "outputs": [
    {
     "name": "stdout",
     "output_type": "stream",
     "text": [
      "demands = [0 1 2 3]\n",
      "frequency = [ 8 10 22 10]\n"
     ]
    }
   ],
   "source": [
    "# create a numpy array with the demand sizes\n",
    "demands = np.array([0, 1, 2, 3])\n",
    "labels = [\"None\", \"Small\", \"Medium\", \"Large\"]\n",
    "print(\"demands = {}\".format(demands))\n",
    "\n",
    "# create a numpy array with the observed frequencies\n",
    "frequency = np.array([8, 10, 22, 10])\n",
    "print(\"frequency = {}\".format(frequency))"
   ]
  },
  {
   "cell_type": "markdown",
   "metadata": {},
   "source": [
    "The empirical probability mass function (PMF) is the number of demands (frequency) divided by the total number of demands (sum of all frequency). This PMF can be displayed using a bar plot."
   ]
  },
  {
   "cell_type": "code",
   "execution_count": 66,
   "metadata": {},
   "outputs": [
    {
     "name": "stdout",
     "output_type": "stream",
     "text": [
      "pmf = [0.16 0.2  0.44 0.2 ]\n"
     ]
    },
    {
     "data": {
      "image/png": "[encoded data removed]",
      "text/plain": [
       "<Figure size 432x288 with 1 Axes>"
      ]
     },
     "metadata": {
      "needs_background": "light"
     },
     "output_type": "display_data"
    }
   ],
   "source": [
    "pmf = frequency/np.sum(frequency)\n",
    "print(\"pmf = {}\".format(pmf))\n",
    "\n",
    "plt.figure()\n",
    "plt.bar(demands, pmf, color='blue')\n",
    "plt.ylabel('$p(x)$')\n",
    "plt.xlabel('Coffee Demand ($x$)')\n",
    "plt.title('PMF for Cafe Java Demand')\n",
    "plt.xticks(demands, labels)\n",
    "plt.show()"
   ]
  },
  {
   "cell_type": "markdown",
   "metadata": {},
   "source": [
    "The empirical cumulative distribution function (CDF) is the cumulative sum of the PMF previously compted. This CDF can be displayed using a step line plot."
   ]
  },
  {
   "cell_type": "code",
   "execution_count": 20,
   "metadata": {},
   "outputs": [
    {
     "name": "stdout",
     "output_type": "stream",
     "text": [
      "cdf = [0.16 0.36 0.8  1.  ]\n"
     ]
    },
    {
     "data": {
      "image/png": "[encoded data removed]",
      "text/plain": [
       "<Figure size 432x288 with 1 Axes>"
      ]
     },
     "metadata": {
      "needs_background": "light"
     },
     "output_type": "display_data"
    }
   ],
   "source": [
    "cdf = np.cumsum(pmf)\n",
    "print(\"cdf = {}\".format(cdf))\n",
    "\n",
    "plt.figure()\n",
    "plt.step(demands, cdf, '-r', where='post')\n",
    "plt.ylabel('$F(x)$')\n",
    "plt.xlabel('Coffee Demand ($x$)')\n",
    "plt.title('CDF for Cafe Java Demand')\n",
    "plt.xticks(demands, labels)\n",
    "plt.show()"
   ]
  },
  {
   "cell_type": "markdown",
   "metadata": {},
   "source": [
    "## Process Generator\n",
    "\n",
    "The inverse transform method uses knowledge of the CDF to generate new samples."
   ]
  },
  {
   "cell_type": "code",
   "execution_count": 30,
   "metadata": {},
   "outputs": [
    {
     "name": "stdout",
     "output_type": "stream",
     "text": [
      "example demand index: 0\n"
     ]
    }
   ],
   "source": [
    "def generate_demand_ivt():\n",
    "    \"\"\"Generates a demand following the inverse transform method.\n",
    "    \n",
    "    Returns:\n",
    "        demand (int): the size of coffee demanded    \n",
    "    \"\"\"\n",
    "    # generate a random sample r\n",
    "    r = np.random.rand()\n",
    "    \n",
    "    # check the first cdf entry (index 0) \n",
    "    if r <= cdf[0]:\n",
    "        return demands[0]\n",
    "    # check the second cdf entry (index 1)\n",
    "    elif r <= cdf[1]:\n",
    "        return demands[1]\n",
    "    # check the third cdf entry (index 2)\n",
    "    elif r <= cdf[2]:\n",
    "        return demands[2]\n",
    "    # otherwise no need to check, it's the final CDF entry (index 3)\n",
    "    else:\n",
    "        return demands[3]\n",
    "        \n",
    "    \"\"\"\n",
    "    note: the code above could be replaced with the following for \n",
    "    loop which iterates over each array index i in demands\n",
    "    \n",
    "    for i in range(len(demands)):\n",
    "        if r <= cdf[i]:\n",
    "            return demands[i]\n",
    "    \"\"\"\n",
    "\n",
    "print('example demand index: {:}'.format(generate_demand_ivt()))"
   ]
  },
  {
   "cell_type": "markdown",
   "metadata": {},
   "source": [
    "## Verification Study\n",
    "\n",
    "A simple verification study can generage a large number of samples (say, 1000) and compare to to the empirical distribution."
   ]
  },
  {
   "cell_type": "code",
   "execution_count": 68,
   "metadata": {},
   "outputs": [
    {
     "data": {
      "image/png": "[encoded data removed]",
      "text/plain": [
       "<Figure size 432x288 with 1 Axes>"
      ]
     },
     "metadata": {
      "needs_background": "light"
     },
     "output_type": "display_data"
    }
   ],
   "source": [
    "# define number of samples\n",
    "num_samples = 1000\n",
    "\n",
    "# fill the samples arrays with samples from the generators\n",
    "samples_ivt = [generate_demand_ivt() for i in range(num_samples)]\n",
    "\n",
    "# create a new figure recreating the PMF bar plot\n",
    "plt.figure()\n",
    "plt.hist(samples_ivt, bins=range(5), align='left', color='black', label='Generated (IVT)')\n",
    "plt.bar(demands, pmf*num_samples, color='blue', label='Empirical')\n",
    "plt.ylabel('Frequency')\n",
    "plt.xlabel('Coffee Demand ($x$)')\n",
    "plt.title('Cafe Java Demand Process Generator Results ($n$={})'.format(num_samples))\n",
    "plt.xticks(demands, labels)\n",
    "plt.legend()\n",
    "plt.show()"
   ]
  },
  {
   "cell_type": "code",
   "execution_count": null,
   "metadata": {},
   "outputs": [],
   "source": []
  }
 ],
 "metadata": {
  "kernelspec": {
   "display_name": "Python 3",
   "language": "python",
   "name": "python3"
  },
  "language_info": {
   "codemirror_mode": {
    "name": "ipython",
    "version": 3
   },
   "file_extension": ".py",
   "mimetype": "text/x-python",
   "name": "python",
   "nbconvert_exporter": "python",
   "pygments_lexer": "ipython3",
   "version": "3.8.3"
  }
 },
 "nbformat": 4,
 "nbformat_minor": 4
}
