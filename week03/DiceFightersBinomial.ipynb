{
 "cells": [
  {
   "cell_type": "markdown",
   "metadata": {},
   "source": [
    "# SYS 611: Dice Fighters Example (w/ Binomial Process Gen.)\n",
    "\n",
    "Paul T. Grogan <pgrogan@stevens.edu>\n",
    "\n",
    "This example shows how to model the dice fighters example in Python using a binomial process generator.\n",
    "\n",
    "## Dependencies\n",
    "\n",
    "This example is compatible with Python 2 environments through use of the `__future__` library function. Additionally, this example uses the `numpy` and `scipy.stats` libraries."
   ]
  },
  {
   "cell_type": "code",
   "execution_count": 21,
   "metadata": {},
   "outputs": [],
   "source": [
    "# import the python3 behavior for importing, division, and printing in python2\n",
    "from __future__ import absolute_import, division, print_function\n",
    "\n",
    "# import the numpy library and refer to it as `np`\n",
    "import numpy as np\n",
    "\n",
    "# import the scipy.stats library and refer to it as `stats`\n",
    "import scipy.stats as stats"
   ]
  },
  {
   "cell_type": "markdown",
   "metadata": {},
   "source": [
    "## Elementary State Variables\n",
    "\n",
    "There are five elementary state variables defined below:\n",
    " * `round_number`: Current round number\n",
    " * `red_size`: Red force size \n",
    " * `blue_size`: Blue force size\n",
    " * `red_chance_hit`: Red team probability of landing a 'hit' on a blue team\n",
    " * `blue_chance_hit`: Blue team probability of landing a 'hit' on a red team\n",
    "\n",
    "All variables are defined with global scope and initialized to an initial value.\n",
    "\n",
    "A helper function `print_state` formats the display of key state variables."
   ]
  },
  {
   "cell_type": "code",
   "execution_count": 22,
   "metadata": {},
   "outputs": [],
   "source": [
    "round_number = 0\n",
    "red_size = 20\n",
    "blue_size = 10\n",
    "red_chance_hit = 1/6\n",
    "blue_chance_hit = 3/6\n",
    "\n",
    "def print_state():\n",
    "    print(\"Round: {:d} | Red: {:d}, Blue: {:d}\".format(round_number, red_size, blue_size))"
   ]
  },
  {
   "cell_type": "markdown",
   "metadata": {},
   "source": [
    "## Derived State Variables\n",
    "\n",
    "There is one derived state variable defined below:\n",
    " * `is_complete`: Determines if a game is complete."
   ]
  },
  {
   "cell_type": "code",
   "execution_count": 23,
   "metadata": {},
   "outputs": [],
   "source": [
    "def is_complete():\n",
    "    \"\"\"\n",
    "    Check if the game is complete, meaning at least one team has no forces remaining.\n",
    "    Return True if the game is complete, False otherwise.\n",
    "    \"\"\"\n",
    "    return (red_size <= 0 or blue_size <= 0)"
   ]
  },
  {
   "cell_type": "markdown",
   "metadata": {},
   "source": [
    "## Process Generators\n",
    "\n",
    "There are two process generator functions defined below:\n",
    " * `generate_red_hits`: a process generator to determine how many hits the red team scores\n",
    " * `generate_blue_hits`: a process generator to determine how many hits the blue team scores\n",
    "\n",
    "These functions use the binomial inverse CDF function (called a PPF function in `scipy.stats`) following the inverse transform method (IVT) to generate the number of hits based on the number of forces remaining."
   ]
  },
  {
   "cell_type": "code",
   "execution_count": 24,
   "metadata": {},
   "outputs": [],
   "source": [
    "# define the generate_red_hits function\n",
    "def generate_red_hits():\n",
    "    \"\"\"\n",
    "    Randomly generate the number of red hits on the blue team.\n",
    "    \"\"\"\n",
    "    # use the binomial PPF (inverse CDF) with a random sample and cast to an integer\n",
    "    return int(stats.binom.ppf(np.random.rand(), red_size, red_chance_hit))\n",
    "    # note: the code above could be replaced by a built-in numpy process generator:\n",
    "    # return np.random.binomial(red_size, red_chance_hit)\n",
    "\n",
    "# define the generate_blue_hits function\n",
    "def generate_blue_hits():\n",
    "    \"\"\"\n",
    "    Randomly generate the number of blue hits on the red team.\n",
    "    \"\"\"\n",
    "    # use the binomial PPF (inverse CDF) with a random sample and cast to an integer\n",
    "    return int(stats.binom.ppf(np.random.rand(), blue_size, blue_chance_hit))\n",
    "    # note: the code above could be replaced by a built-in numpy process generator:\n",
    "    # return np.random.binomial(blue_size, blue_chance_hit)"
   ]
  },
  {
   "cell_type": "markdown",
   "metadata": {},
   "source": [
    "## State Transition Functions\n",
    "\n",
    "There are three state transition functions defined below:\n",
    " * `red_suffer_losses`: decreases the red force size by the number of blue hits\n",
    " * `generate_red_hits`: decreases the blue force size by the number of red hits\n",
    " * `next_round`: advances to the next round"
   ]
  },
  {
   "cell_type": "code",
   "execution_count": 25,
   "metadata": {},
   "outputs": [],
   "source": [
    "def red_suffer_losses(opponent_hits):\n",
    "    \"\"\"\n",
    "    Decrease the red team size by the number of blue hits.\n",
    "    \"\"\"\n",
    "    # (note: red_size must be declared as a global variable to update in this function!)\n",
    "    global red_size\n",
    "    # update the red_size based on the number of opponent hits\n",
    "    red_size -= opponent_hits\n",
    "\n",
    "def blue_suffer_losses(opponent_hits):\n",
    "    \"\"\"\n",
    "    Decrease the blue team size by the number of red hits.\n",
    "    \"\"\"\n",
    "    # (note: blue_size must be declared as a global variable to update in this function!)\n",
    "    global blue_size\n",
    "    # update the blue_size based on number of opponent hits\n",
    "    blue_size -= opponent_hits\n",
    "\n",
    "def next_round():\n",
    "    \"\"\"\n",
    "    Advance to the next round.\n",
    "    \"\"\"\n",
    "    # (note: round_number must be declared as a global variable to update in this function!)\n",
    "    global round_number\n",
    "    # advance the round_number\n",
    "    round_number += 1"
   ]
  },
  {
   "cell_type": "markdown",
   "metadata": {},
   "source": [
    "## Simulation Execution\n",
    "\n",
    "The following script runs a complete dice fighters match."
   ]
  },
  {
   "cell_type": "code",
   "execution_count": 26,
   "metadata": {},
   "outputs": [
    {
     "name": "stdout",
     "output_type": "stream",
     "text": [
      "Round: 1 | Red: 15, Blue: 6\n",
      "Round: 2 | Red: 14, Blue: 5\n",
      "Round: 3 | Red: 11, Blue: 3\n",
      "Round: 4 | Red: 10, Blue: 1\n",
      "Round: 5 | Red: 10, Blue: -1\n",
      "Red Wins\n"
     ]
    }
   ],
   "source": [
    "round_number = 0\n",
    "red_size = 20\n",
    "blue_size = 10\n",
    "red_chance_hit = 1/6\n",
    "blue_chance_hit = 3/6\n",
    "\n",
    "# main execution loop: continue while the game is not complete\n",
    "while not is_complete():\n",
    "    # generate the number of red hits\n",
    "    red_hits = generate_red_hits()\n",
    "    # generate the number of blue hits\n",
    "    blue_hits = generate_blue_hits()\n",
    "    # red team suffers losses of blue hits\n",
    "    red_suffer_losses(blue_hits)\n",
    "    # blue team suffers losses of red hits\n",
    "    blue_suffer_losses(red_hits)\n",
    "    # advance to the next round\n",
    "    next_round()\n",
    "    # print out the current state for debugging\n",
    "    print_state()\n",
    "    \n",
    "# after main loop exists, check who won (whichever team still has fighters!)\n",
    "if red_size > 0:\n",
    "    print(\"Red Wins\")\n",
    "elif blue_size > 0:\n",
    "    print(\"Blue Wins\")\n",
    "else:\n",
    "    print(\"Tie - Mutual Destruction!\")"
   ]
  },
  {
   "cell_type": "code",
   "execution_count": null,
   "metadata": {},
   "outputs": [],
   "source": []
  }
 ],
 "metadata": {
  "kernelspec": {
   "display_name": "Python 3",
   "language": "python",
   "name": "python3"
  },
  "language_info": {
   "codemirror_mode": {
    "name": "ipython",
    "version": 3
   },
   "file_extension": ".py",
   "mimetype": "text/x-python",
   "name": "python",
   "nbconvert_exporter": "python",
   "pygments_lexer": "ipython3",
   "version": "3.8.3"
  }
 },
 "nbformat": 4,
 "nbformat_minor": 4
}
