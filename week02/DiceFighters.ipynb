{
 "cells": [
  {
   "cell_type": "markdown",
   "metadata": {},
   "source": [
    "# IEE 545: Dice Fighters Example\n",
    "\n",
    "Paul T. Grogan <paul.grogan@asu.edu>\n",
    "\n",
    "This example shows how to model the dice fighters example in Python.\n",
    "\n",
    "## Dependencies\n",
    "\n",
    "This example uses the `numpy` library."
   ]
  },
  {
   "cell_type": "code",
   "execution_count": 1,
   "metadata": {},
   "outputs": [],
   "source": [
    "# import the numpy library and refer to it as `np`\n",
    "import numpy as np"
   ]
  },
  {
   "cell_type": "markdown",
   "metadata": {},
   "source": [
    "## Elementary State Variables\n",
    "\n",
    "There are five elementary state variables defined below:\n",
    " * `round_number`: Current round number\n",
    " * `red_size`: Red force size \n",
    " * `blue_size`: Blue force size\n",
    " * `red_chance_hit`: Red team probability of landing a 'hit' on a blue team\n",
    " * `blue_chance_hit`: Blue team probability of landing a 'hit' on a red team\n",
    "\n",
    "All variables are defined with global scope and initialized to an initial value.\n",
    "\n",
    "A helper function `print_state` formats the display of key state variables."
   ]
  },
  {
   "cell_type": "code",
   "execution_count": 2,
   "metadata": {},
   "outputs": [
    {
     "name": "stdout",
     "output_type": "stream",
     "text": [
      "Round: 0 | Red: 20, Blue: 10\n"
     ]
    }
   ],
   "source": [
    "round_number = 0\n",
    "red_size = 20\n",
    "blue_size = 10\n",
    "red_chance_hit = 1/6\n",
    "blue_chance_hit = 3/6\n",
    "\n",
    "def print_state():\n",
    "    print(\"Round: {:d} | Red: {:d}, Blue: {:d}\".format(round_number, red_size, blue_size))\n",
    "\n",
    "print_state()"
   ]
  },
  {
   "cell_type": "markdown",
   "metadata": {},
   "source": [
    "## Derived State Variables\n",
    "\n",
    "There is one derived state variable defined below:\n",
    " * `is_complete`: Determines if a game is complete."
   ]
  },
  {
   "cell_type": "code",
   "execution_count": 3,
   "metadata": {},
   "outputs": [
    {
     "data": {
      "text/plain": [
       "False"
      ]
     },
     "execution_count": 3,
     "metadata": {},
     "output_type": "execute_result"
    }
   ],
   "source": [
    "def is_complete():\n",
    "    \"\"\"\n",
    "    Check if the game is complete, meaning at least one team has no forces remaining.\n",
    "    Return True if the game is complete, False otherwise.\n",
    "    \"\"\"\n",
    "    return (red_size <= 0 or blue_size <= 0)\n",
    "\n",
    "is_complete()"
   ]
  },
  {
   "cell_type": "markdown",
   "metadata": {},
   "source": [
    "## State Transition Functions\n",
    "\n",
    "There are five state transition functions defined below:\n",
    " * `generate_red_hits`: a process generator to determine how many hits the red team scores\n",
    " * `generate_blue_hits`: a process generator to determine how many hits the blue team scores\n",
    " * `red_suffer_losses`: decreases the red force size by the number of blue hits\n",
    " * `generate_red_hits`: decreases the blue force size by the number of red hits\n",
    " * `next_round`: advances to the next round"
   ]
  },
  {
   "cell_type": "code",
   "execution_count": 4,
   "metadata": {},
   "outputs": [
    {
     "name": "stdout",
     "output_type": "stream",
     "text": [
      "Round: 0 | Red: 20, Blue: 10\n",
      "Round: 1 | Red: 17, Blue: 8\n"
     ]
    }
   ],
   "source": [
    "def generate_red_hits():\n",
    "    \"\"\"\n",
    "    Randomly generate the number of red hits on the blue team.\n",
    "    \"\"\"\n",
    "    # roll random (0,1) numbers for each dice\n",
    "    attacks = np.random.rand(red_size)\n",
    "    # count the number of rolls which are lower than red_chance_hit\n",
    "    num_hits = sum(attacks < red_chance_hit)\n",
    "    # return the number of hits\n",
    "    return num_hits\n",
    "\n",
    "def generate_blue_hits():\n",
    "    \"\"\"\n",
    "    Randomly generate the number of blue hits on the red team.\n",
    "    \"\"\"\n",
    "    # roll random (0,1) numbers for each dice\n",
    "    attacks = np.random.rand(blue_size)\n",
    "    # count the number of rolls which are lower than the blue_chance_hit\n",
    "    num_hits = sum(attacks < blue_chance_hit)\n",
    "    # return the number of hits\n",
    "    return num_hits\n",
    "\n",
    "def red_suffer_losses(opponent_hits):\n",
    "    \"\"\"\n",
    "    Decrease the red team size by the number of blue hits.\n",
    "    \"\"\"\n",
    "    # (note: red_size must be declared as a global variable to update in this function!)\n",
    "    global red_size\n",
    "    # update the red_size based on the number of opponent hits\n",
    "    red_size -= opponent_hits\n",
    "\n",
    "def blue_suffer_losses(opponent_hits):\n",
    "    \"\"\"\n",
    "    Decrease the blue team size by the number of red hits.\n",
    "    \"\"\"\n",
    "    # (note: blue_size must be declared as a global variable to update in this function!)\n",
    "    global blue_size\n",
    "    # update the blue_size based on number of opponent hits\n",
    "    blue_size -= opponent_hits\n",
    "\n",
    "def next_round():\n",
    "    \"\"\"\n",
    "    Advance to the next round.\n",
    "    \"\"\"\n",
    "    # (note: round_number must be declared as a global variable to update in this function!)\n",
    "    global round_number\n",
    "    # advance the round_number\n",
    "    round_number += 1\n",
    "\n",
    "print_state()\n",
    "red_hits = generate_red_hits()\n",
    "blue_hits = generate_blue_hits()\n",
    "red_suffer_losses(blue_hits)\n",
    "blue_suffer_losses(red_hits)\n",
    "next_round()\n",
    "print_state()"
   ]
  },
  {
   "cell_type": "markdown",
   "metadata": {},
   "source": [
    "## Simulation Execution\n",
    "\n",
    "The following script runs a complete dice fighters match."
   ]
  },
  {
   "cell_type": "code",
   "execution_count": 5,
   "metadata": {},
   "outputs": [
    {
     "name": "stdout",
     "output_type": "stream",
     "text": [
      "Round: 1 | Red: 16, Blue: 3\n",
      "Round: 2 | Red: 13, Blue: -1\n",
      "Red Wins\n"
     ]
    }
   ],
   "source": [
    "round_number = 0\n",
    "red_size = 20\n",
    "blue_size = 10\n",
    "red_chance_hit = 1/6\n",
    "blue_chance_hit = 3/6\n",
    "\n",
    "# main execution loop: continue while the game is not complete\n",
    "while not is_complete():\n",
    "    # generate the number of red hits\n",
    "    red_hits = generate_red_hits()\n",
    "    # generate the number of blue hits\n",
    "    blue_hits = generate_blue_hits()\n",
    "    # red team suffers losses of blue hits\n",
    "    red_suffer_losses(blue_hits)\n",
    "    # blue team suffers losses of red hits\n",
    "    blue_suffer_losses(red_hits)\n",
    "    # advance to the next round\n",
    "    next_round()\n",
    "    # print out the current state for debugging\n",
    "    print_state()\n",
    "    \n",
    "# after main loop exists, check who won (whichever team still has fighters!)\n",
    "if red_size > 0:\n",
    "    print(\"Red Wins\")\n",
    "elif blue_size > 0:\n",
    "    print(\"Blue Wins\")\n",
    "else:\n",
    "    print(\"Tie - Mutual Destruction!\")"
   ]
  }
 ],
 "metadata": {
  "kernelspec": {
   "display_name": "Python 3",
   "language": "python",
   "name": "python3"
  },
  "language_info": {
   "codemirror_mode": {
    "name": "ipython",
    "version": 3
   },
   "file_extension": ".py",
   "mimetype": "text/x-python",
   "name": "python",
   "nbconvert_exporter": "python",
   "pygments_lexer": "ipython3",
   "version": "3.9.12"
  }
 },
 "nbformat": 4,
 "nbformat_minor": 4
}
