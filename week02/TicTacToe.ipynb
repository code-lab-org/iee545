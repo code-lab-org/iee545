{
 "cells": [
  {
   "cell_type": "markdown",
   "metadata": {},
   "source": [
    "# IEE 545: Tic-Tac-Toe Example\n",
    "\n",
    "Paul T. Grogan <paul.grogan@asu.edu>\n",
    "\n",
    "This example shows how to model a tic-tac-toe game in Python.\n",
    "\n",
    "## Elementary State Variables\n",
    "\n",
    "The main state variable in tic-tac-toe records what mark is in each of the nine cells. The easiest way to store this information in Python is using a matrix (list of lists). The following code creates a variable named `state` that has three rows, each with three cells. The value of each cell is initialized to a blank space `\" \"`. If printed to the console, you will see a \"list of lists\" filled with blank spaces."
   ]
  },
  {
   "cell_type": "code",
   "execution_count": 10,
   "metadata": {
    "id": "E4zoHRkBnKjN"
   },
   "outputs": [
    {
     "name": "stdout",
     "output_type": "stream",
     "text": [
      "[[' ', ' ', ' '], [' ', ' ', ' '], [' ', ' ', ' ']]\n"
     ]
    }
   ],
   "source": [
    "state = [\n",
    "    [\" \", \" \", \" \"],\n",
    "    [\" \", \" \", \" \"],\n",
    "    [\" \", \" \", \" \"]\n",
    "]\n",
    "print(state)"
   ]
  },
  {
   "cell_type": "markdown",
   "metadata": {},
   "source": [
    "As a helper function to better visualize the state, we can use the pandas library to format the visual output as a table."
   ]
  },
  {
   "cell_type": "code",
   "execution_count": 11,
   "metadata": {},
   "outputs": [
    {
     "name": "stdout",
     "output_type": "stream",
     "text": [
      "   0  1  2\n",
      "0         \n",
      "1         \n",
      "2         \n"
     ]
    }
   ],
   "source": [
    "import pandas as pd\n",
    "\n",
    "def show_grid(state):\n",
    "    \"\"\"\n",
    "    Show the game state using a pandas data frame.\n",
    "    \"\"\"\n",
    "    print(pd.DataFrame(state))\n",
    "\n",
    "show_grid(state)"
   ]
  },
  {
   "cell_type": "markdown",
   "metadata": {},
   "source": [
    "## Derived State Variables\n",
    "\n",
    "There are many possible derived state variables which perform a computation based on the elementary state variable. For example, a derived state variable that counts the number of empty cells can be implemented as:"
   ]
  },
  {
   "cell_type": "code",
   "execution_count": 4,
   "metadata": {},
   "outputs": [
    {
     "data": {
      "text/plain": [
       "9"
      ]
     },
     "execution_count": 4,
     "metadata": {},
     "output_type": "execute_result"
    }
   ],
   "source": [
    "def count_empty_cells(state):\n",
    "    \"\"\"\n",
    "    Count the number of empty cells in a game state.\n",
    "    \"\"\"\n",
    "    count = 0\n",
    "    # loop over each row\n",
    "    for i in range(3):\n",
    "        # loop over each column\n",
    "        for j in range(3):\n",
    "            # if the cell value is blank (\" \")\n",
    "            if state[i][j] == \" \":\n",
    "                # increment the count\n",
    "                count += 1\n",
    "    return count\n",
    "\n",
    "count_empty_cells(state)"
   ]
  },
  {
   "cell_type": "markdown",
   "metadata": {},
   "source": [
    "A more compact notation for the above function using a generator expression with the `sum` function to count the number of cells with value equal to `\" \"` could be:"
   ]
  },
  {
   "cell_type": "code",
   "execution_count": 9,
   "metadata": {},
   "outputs": [
    {
     "data": {
      "text/plain": [
       "9"
      ]
     },
     "execution_count": 9,
     "metadata": {},
     "output_type": "execute_result"
    }
   ],
   "source": [
    "def count_empty_cells(state):\n",
    "    \"\"\"\n",
    "    Count the number of empty cells in a game state.\n",
    "    \"\"\"\n",
    "    # count the number of cells with value \" \"\n",
    "    return sum(cell==\" \" for row in state for cell in row)\n",
    "\n",
    "count_empty_cells(state)"
   ]
  },
  {
   "cell_type": "markdown",
   "metadata": {},
   "source": [
    "An additional derived state variable may check to see if a move at location `row,col` is valid, i.e., that the cell at that position is currently blank."
   ]
  },
  {
   "cell_type": "code",
   "execution_count": 12,
   "metadata": {},
   "outputs": [
    {
     "data": {
      "text/plain": [
       "True"
      ]
     },
     "execution_count": 12,
     "metadata": {},
     "output_type": "execute_result"
    }
   ],
   "source": [
    "def is_valid(row, col):\n",
    "    \"\"\"\n",
    "    Determine if the location (row,col) is valid for a move.\n",
    "    \"\"\"\n",
    "    return state[row][col] == \" \"\n",
    "\n",
    "is_valid(0,0)"
   ]
  },
  {
   "cell_type": "markdown",
   "metadata": {},
   "source": [
    "## State Transition Functions\n",
    "\n",
    "State transition (or change) functions perform an action to change the elementary state. Here, we may define a function to mark a location `row,col` with a designated character."
   ]
  },
  {
   "cell_type": "code",
   "execution_count": 23,
   "metadata": {},
   "outputs": [
    {
     "name": "stdout",
     "output_type": "stream",
     "text": [
      "   0  1  2\n",
      "0         \n",
      "1         \n",
      "2         \n",
      "   0  1  2\n",
      "0         \n",
      "1     x   \n",
      "2         \n",
      "   0  1  2\n",
      "0         \n",
      "1     x   \n",
      "2         \n",
      "   0  1  2\n",
      "0  o      \n",
      "1     x   \n",
      "2         \n"
     ]
    }
   ],
   "source": [
    "def mark_x(state, row, col):\n",
    "    \"\"\"\n",
    "    Attempt to make an x mark at location (row, col)\n",
    "    \"\"\"\n",
    "    # check if this is a valid move\n",
    "    if is_valid(row, col):\n",
    "        # if valid, update the state accordingly\n",
    "        state[row][col] = \"x\"\n",
    "\n",
    "# define a function to mark an 'o' at a row and column\n",
    "def mark_o(state, row, col):\n",
    "    \"\"\"\n",
    "    Attempt to make an o mark at location (row, col)\n",
    "    \"\"\"\n",
    "    # check if this is a valid move\n",
    "    if is_valid(row, col):\n",
    "        # if valid, update the state accordingly\n",
    "        state[row][col] = \"o\"\n",
    "\n",
    "show_grid(state)\n",
    "mark_x(state, 1,1)\n",
    "show_grid(state)\n",
    "mark_o(state, 1,1)\n",
    "show_grid(state)\n",
    "mark_o(state, 0,0)\n",
    "show_grid(state)"
   ]
  },
  {
   "cell_type": "markdown",
   "metadata": {},
   "source": [
    "Another state transition function may be used to clear the board."
   ]
  },
  {
   "cell_type": "code",
   "execution_count": 20,
   "metadata": {},
   "outputs": [
    {
     "name": "stdout",
     "output_type": "stream",
     "text": [
      "   0  1  2\n",
      "0  o      \n",
      "1     x   \n",
      "2         \n",
      "   0  1  2\n",
      "0         \n",
      "1         \n",
      "2         \n"
     ]
    }
   ],
   "source": [
    "def reset_game(state):\n",
    "    \"\"\"\n",
    "    Reset the game state, returning every cell to a blank space.\n",
    "    \"\"\"\n",
    "    # loop over each row\n",
    "    for i in range(3):\n",
    "        # loop over each column\n",
    "        for j in range(3):\n",
    "            # empty the state location at (i,j)\n",
    "            state[i][j] = \" \"\n",
    "\n",
    "show_grid(state)\n",
    "reset_game(state)\n",
    "show_grid(state)"
   ]
  },
  {
   "cell_type": "markdown",
   "metadata": {},
   "source": [
    "## Homework Problem\n",
    "\n",
    "As a part of the homework this week, try implementing the two derived state functions below to determine the winner, if there is one (`\"x\"` or `\"o\"` or `None`) and whether the game state has a tie (`True` or `False`)."
   ]
  },
  {
   "cell_type": "code",
   "execution_count": 22,
   "metadata": {},
   "outputs": [],
   "source": [
    "def get_winner(state):\n",
    "    \"\"\"\n",
    "    Check if there is a winner for this game. \n",
    "    If there is a winner, return the corresponding letter (\"x\" or \"o\"). \n",
    "    Otherwise, return the special value None.\n",
    "    \"\"\"\n",
    "    pass # replace this line for HW-01\n",
    "\n",
    "def is_tie(state):\n",
    "    \"\"\"\n",
    "    Check if the current game state is considered a tie (i.e., no winner is possible). \n",
    "    Return True if it is a tie, False otherwise.\n",
    "    \"\"\"\n",
    "    pass # replace this line for HW-01"
   ]
  }
 ],
 "metadata": {
  "colab": {
   "name": "ticTacToe.ipynb",
   "provenance": []
  },
  "kernelspec": {
   "display_name": "Python 3",
   "language": "python",
   "name": "python3"
  },
  "language_info": {
   "codemirror_mode": {
    "name": "ipython",
    "version": 3
   },
   "file_extension": ".py",
   "mimetype": "text/x-python",
   "name": "python",
   "nbconvert_exporter": "python",
   "pygments_lexer": "ipython3",
   "version": "3.8.3"
  }
 },
 "nbformat": 4,
 "nbformat_minor": 1
}
