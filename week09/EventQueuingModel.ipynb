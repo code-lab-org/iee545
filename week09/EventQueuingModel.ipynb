{
 "cells": [
  {
   "cell_type": "markdown",
   "id": "recovered-meeting",
   "metadata": {},
   "source": [
    "# SYS 611: Event Queuing Model\n",
    "\n",
    "Paul T. Grogan <pgrogan@stevens.edu>\n",
    "\n",
    "This example constructs a simulation model for a single-server queuing system using the event-centric perspective.\n",
    "\n",
    "## Dependencies\n",
    "\n",
    "This example is compatible with Python 2 environments through use of the `__future__` library function. Additionally, this example uses the `numpy` and `matplotlib.pyplot` libraries."
   ]
  },
  {
   "cell_type": "code",
   "execution_count": 20,
   "id": "drawn-scene",
   "metadata": {},
   "outputs": [],
   "source": [
    "# import the python3 behavior for importing, division, and printing in python2\n",
    "from __future__ import absolute_import, division, print_function\n",
    "\n",
    "# import the numpy package and refer to it as `np`\n",
    "import numpy as np\n",
    "\n",
    "# import the matplotlib.pyplot package and refer to it as `plt`\n",
    "import matplotlib.pyplot as plt"
   ]
  },
  {
   "cell_type": "markdown",
   "id": "korean-vatican",
   "metadata": {},
   "source": [
    "## Process Generators\n",
    "\n",
    "The two process generators that are required to model a simple queuing system are the inter-arrival (time between customer arrivals) and service duration. While not required for the general model, both are represented here as exponentially-distributed random variables."
   ]
  },
  {
   "cell_type": "code",
   "execution_count": 5,
   "id": "olive-groove",
   "metadata": {},
   "outputs": [],
   "source": [
    "_lambda = 1/1.5 # arrival rate, 1.5 minutes per customer or 2/3 customer per minute\n",
    "_mu = 1/0.75 # service rate, 0.75 minutes per customer or 4/3 customer per minute\n",
    "\n",
    "# define process generator for inter-arrival duration\n",
    "def gen_t_arrival():\n",
    "    r = np.random.rand()\n",
    "    return -np.log(1-r)/_lambda\n",
    "    \"\"\"\n",
    "    # alternatively, this function could be replaced by the following:\n",
    "    return np.random.exponential(scale=1/_lambda)\n",
    "    \"\"\"\n",
    "\n",
    "# define process generator for service duration\n",
    "def gen_t_service():\n",
    "    r = np.random.rand()\n",
    "    return -np.log(1-r)/_mu\n",
    "    \"\"\"\n",
    "    # alternatively, this function could be replaced by the following:\n",
    "    return np.random.exponential(scale=1/_mu)\n",
    "    \"\"\""
   ]
  },
  {
   "cell_type": "markdown",
   "id": "found-burden",
   "metadata": {},
   "source": [
    "## State Transition Function\n",
    "\n",
    "The state transition function processes the model logic. This function computes updates to *all* simulation variables."
   ]
  },
  {
   "cell_type": "code",
   "execution_count": 28,
   "id": "fifteen-reasoning",
   "metadata": {},
   "outputs": [],
   "source": [
    "def _delta(t, N, t_A, t_D, N_A, N_D, W):\n",
    "    # update the total waiting time\n",
    "    W += N*(min(t_A, t_D) - t)\n",
    "    # update the simulation time\n",
    "    t = min(t_A, t_D)\n",
    "    if t_A <= t_D:\n",
    "        # this is an arrival - increment the state variable\n",
    "        N += 1\n",
    "        # record an arrival\n",
    "        N_A += 1\n",
    "        if N <= 1:\n",
    "            # schedule the departure\n",
    "            t_D = t + gen_t_service()\n",
    "        # schedule another arrival as long as t < 1000 minutes\n",
    "        t_A = t + gen_t_arrival() if t < 1000 else np.inf\n",
    "    else:\n",
    "        # this is a departure - decrement the state variable\n",
    "        N -= 1\n",
    "        # record a departure\n",
    "        N_D += 1\n",
    "        # schedule the next departure if there are more in the system\n",
    "        t_D = t + gen_t_service() if N > 0 else np.inf\n",
    "    return t, N, t_A, t_D, N_A, N_D, W"
   ]
  },
  {
   "cell_type": "markdown",
   "id": "cultural-numbers",
   "metadata": {},
   "source": [
    "## Simulation\n",
    "\n",
    "Generate a state trajectory for a specified number of state transitions."
   ]
  },
  {
   "cell_type": "code",
   "execution_count": 43,
   "id": "senior-laundry",
   "metadata": {},
   "outputs": [
    {
     "name": "stdout",
     "output_type": "stream",
     "text": [
      "         t       t_A       t_D         N       N_A       N_D         W\n",
      "      0.00      3.13       inf         0         0         0      0.00\n",
      "      3.13      4.71      5.30         1         1         0      0.00\n",
      "      4.71      6.44      5.30         2         2         0      1.58\n",
      "      5.30      6.44      5.57         1         2         1      2.77\n",
      "      5.57      6.44       inf         0         2         2      3.03\n",
      "      6.44      7.71      6.88         1         3         2      3.03\n",
      "      6.88      7.71       inf         0         3         3      3.47\n",
      "      7.71      8.12      7.86         1         4         3      3.47\n",
      "      7.86      8.12       inf         0         4         4      3.62\n",
      "      8.12      9.15      8.21         1         5         4      3.62\n",
      "      8.21      9.15       inf         0         5         5      3.71\n",
      "      9.15      9.90      9.95         1         6         5      3.71\n",
      "      9.90     10.17      9.95         2         7         5      4.46\n",
      "      9.95     10.17     11.42         1         7         6      4.56\n",
      "W_bar = 1.63\n"
     ]
    },
    {
     "data": {
      "image/png": "[encoded data removed]",
      "text/plain": [
       "<Figure size 432x288 with 1 Axes>"
      ]
     },
     "metadata": {
      "needs_background": "light"
     },
     "output_type": "display_data"
    }
   ],
   "source": [
    "# initialize variables\n",
    "t = 0 # simulation time\n",
    "t_A = gen_t_arrival() # time of next customer arrival\n",
    "t_D = np.inf # time of next customer departure\n",
    "N = 0 # number of customers in the queuing system\n",
    "N_A = 0 # cumulative number of arrivals\n",
    "N_D = 0 # cumulative number of departures\n",
    "W = 0 # cumulative waiting time\n",
    "\n",
    "# initialize data lists for plotting\n",
    "plot_t = [] # simulation time\n",
    "plot_N = [] # number of customers in the queuing system\n",
    "\n",
    "# flag to toggle table display\n",
    "print_table = False\n",
    "\n",
    "print('{:>10s}{:>10s}{:>10s}{:>10s}{:>10s}{:>10s}{:>10s}'.format(\n",
    "        't', 't_A', 't_D', 'N', 'N_A', 'N_D', 'W'))\n",
    "print('{:10.2f}{:10.2f}{:10.2f}{:10.0f}{:10.0f}{:10.0f}{:10.2f}'.format(\n",
    "        t, t_A, t_D, N, N_A, N_D, W))\n",
    "\n",
    "# loop until simulation ends\n",
    "while t_A < np.inf or t_D < np.inf:\n",
    "    t, N, t_A, t_D, N_A, N_D, W = _delta(t, N, t_A, t_D, N_A, N_D, W)\n",
    "    \n",
    "    # append data for plotting\n",
    "    plot_t.append(t)\n",
    "    plot_N.append(N)\n",
    "    \n",
    "    if t < 10:\n",
    "        # display current state for the first 10 minutes\n",
    "        print('{:10.2f}{:10.2f}{:10.2f}{:10.0f}{:10.0f}{:10.0f}{:10.2f}'.format(\n",
    "                t, t_A, t_D, N, N_A, N_D, W))\n",
    "\n",
    "# print key summary statistics\n",
    "print('W_bar = {:.2f}'.format(W/N_A))\n",
    "\n",
    "# plot the state trajectory\n",
    "plt.figure()\n",
    "plt.step(plot_t, plot_N, '-r', where='post')\n",
    "plt.xlabel('Time ($t$)')\n",
    "plt.ylabel('Number Customers ($N$)')\n",
    "plt.show()"
   ]
  },
  {
   "cell_type": "code",
   "execution_count": null,
   "id": "graduate-stretch",
   "metadata": {},
   "outputs": [],
   "source": []
  }
 ],
 "metadata": {
  "kernelspec": {
   "display_name": "Python 3",
   "language": "python",
   "name": "python3"
  },
  "language_info": {
   "codemirror_mode": {
    "name": "ipython",
    "version": 3
   },
   "file_extension": ".py",
   "mimetype": "text/x-python",
   "name": "python",
   "nbconvert_exporter": "python",
   "pygments_lexer": "ipython3",
   "version": "3.8.3"
  }
 },
 "nbformat": 4,
 "nbformat_minor": 5
}
