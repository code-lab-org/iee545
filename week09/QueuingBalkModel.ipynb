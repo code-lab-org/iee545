{
 "cells": [
  {
   "cell_type": "markdown",
   "id": "derived-entrance",
   "metadata": {},
   "source": [
    "# SYS 611: Queuing Model (with Balking)\n",
    "\n",
    "Paul T. Grogan <pgrogan@stevens.edu>\n",
    "\n",
    "This example constructs a simulation model for a single-server queuing system with balking behavior using the event-centric perspective.\n",
    "\n",
    "## Dependencies\n",
    "\n",
    "This example is compatible with Python 2 environments through use of the `__future__` library function. Additionally, this example uses the `numpy` and `matplotlib.pyplot` libraries."
   ]
  },
  {
   "cell_type": "code",
   "execution_count": 4,
   "id": "efficient-brazilian",
   "metadata": {},
   "outputs": [],
   "source": [
    "# import the python3 behavior for importing, division, and printing in python2\n",
    "from __future__ import absolute_import, division, print_function\n",
    "\n",
    "# import the numpy package and refer to it as `np`\n",
    "import numpy as np\n",
    "\n",
    "# import the matplotlib.pyplot package and refer to it as `plt`\n",
    "import matplotlib.pyplot as plt"
   ]
  },
  {
   "cell_type": "markdown",
   "id": "spare-singles",
   "metadata": {},
   "source": [
    "## Process Generators\n",
    "\n",
    "The two process generators that are required to model a simple queuing system are the inter-arrival (time between customer arrivals) and service duration. While not required for the general model, both are represented here as exponentially-distributed random variables."
   ]
  },
  {
   "cell_type": "code",
   "execution_count": 22,
   "id": "coupled-theory",
   "metadata": {},
   "outputs": [],
   "source": [
    "_lambda = 1/1.5 # arrival rate, 1.5 minutes per customer or 2/3 customer per minute\n",
    "_mu = 1/0.75 # service rate, 0.75 minutes per customer or 4/3 customer per minute\n",
    "\n",
    "# define process generator for inter-arrival duration\n",
    "def gen_t_arrival():\n",
    "    r = np.random.rand()\n",
    "    return -np.log(1-r)/_lambda\n",
    "    \"\"\"\n",
    "    # alternatively, this function could be replaced by the following:\n",
    "    return np.random.exponential(scale=1/_lambda)\n",
    "    \"\"\"\n",
    "\n",
    "# define process generator for service duration\n",
    "def gen_t_service():\n",
    "    r = np.random.rand()\n",
    "    return -np.log(1-r)/_mu\n",
    "    \"\"\"\n",
    "    # alternatively, this function could be replaced by the following:\n",
    "    return np.random.exponential(scale=1/_mu)\n",
    "    \"\"\"\n",
    "    \n",
    "# define process generator for balk\n",
    "def gen_balk(N):\n",
    "    r = np.random.rand()\n",
    "    if N > 5 and r < 0.5:\n",
    "        return True\n",
    "    else:\n",
    "        return False"
   ]
  },
  {
   "cell_type": "markdown",
   "id": "dietary-illinois",
   "metadata": {},
   "source": [
    "## State Transition Function\n",
    "\n",
    "The state transition function processes the model logic. This function computes updates to *all* simulation variables."
   ]
  },
  {
   "cell_type": "code",
   "execution_count": 23,
   "id": "corrected-wildlife",
   "metadata": {},
   "outputs": [],
   "source": [
    "def _delta(t, N, t_A, t_D, N_A, N_B, N_D, W):\n",
    "    # update the total waiting time\n",
    "    W += N*(min(t_A, t_D) - t)\n",
    "    # update the simulation time\n",
    "    t = min(t_A, t_D)\n",
    "    if t_A <= t_D:\n",
    "        # check for balk\n",
    "        if gen_balk(N):\n",
    "            # this is a balk, only increment the balk variable\n",
    "            N_B += 1\n",
    "        else:\n",
    "            # this is an arrival - increment the state variable\n",
    "            N += 1\n",
    "            # record an arrival\n",
    "            N_A += 1\n",
    "            if N <= 1:\n",
    "                # schedule the departure\n",
    "                t_D = t + gen_t_service()\n",
    "        # schedule another arrival as long as t < 1000 minutes\n",
    "        t_A = t + gen_t_arrival() if t < 1000 else np.inf\n",
    "    else:\n",
    "        # this is a departure - decrement the state variable\n",
    "        N -= 1\n",
    "        # record a departure\n",
    "        N_D += 1\n",
    "        # schedule the next departure if there are more in the system\n",
    "        t_D = t + gen_t_service() if N > 0 else np.inf\n",
    "    return t, N, t_A, t_D, N_A, N_B, N_D, W"
   ]
  },
  {
   "cell_type": "markdown",
   "id": "disabled-venezuela",
   "metadata": {},
   "source": [
    "## Simulation\n",
    "\n",
    "Generate a state trajectory for a specified number of state transitions."
   ]
  },
  {
   "cell_type": "code",
   "execution_count": 32,
   "id": "chinese-stake",
   "metadata": {},
   "outputs": [
    {
     "name": "stdout",
     "output_type": "stream",
     "text": [
      "         i         t       t_A       t_D         N       N_A       N_D       N_B\n",
      "      0.00      0.84       inf         0         0         0         0      0.00\n",
      "      0.84      0.91      1.00         1         1         0         0      0.00\n",
      "      0.91      2.82      1.00         2         2         0         0      0.07\n",
      "      1.00      2.82      1.11         1         2         1         0      0.25\n",
      "      1.11      2.82       inf         0         2         2         0      0.36\n",
      "      2.82      2.93      3.41         1         3         2         0      0.36\n",
      "      2.93      6.54      3.41         2         4         2         0      0.47\n",
      "      3.41      6.54      4.61         1         4         3         0      1.43\n",
      "      4.61      6.54       inf         0         4         4         0      2.63\n",
      "      6.54      7.62      7.65         1         5         4         0      2.63\n",
      "      7.62      9.02      7.65         2         6         4         0      3.71\n",
      "      7.65      9.02      8.09         1         6         5         0      3.77\n",
      "      8.09      9.02       inf         0         6         6         0      4.21\n",
      "      9.02     12.64     10.56         1         7         6         0      4.21\n",
      "W_bar = 1.31\n"
     ]
    },
    {
     "data": {
      "image/png": "[encoded data removed]",
      "text/plain": [
       "<Figure size 432x288 with 1 Axes>"
      ]
     },
     "metadata": {
      "needs_background": "light"
     },
     "output_type": "display_data"
    }
   ],
   "source": [
    "# initialize variables\n",
    "t = 0 # simulation time\n",
    "t_A = gen_t_arrival() # time of next customer arrival\n",
    "t_D = np.inf # time of next customer departure\n",
    "N = 0 # number of customers in the queuing system\n",
    "N_A = 0 # cumulative number of arrivals\n",
    "N_B = 0 # cumulative number of balks\n",
    "N_D = 0 # cumulative number of departures\n",
    "W = 0 # cumulative waiting time\n",
    "\n",
    "# initialize data lists for plotting\n",
    "plot_t = [] # simulation time\n",
    "plot_B = [] # number of balks\n",
    "plot_N = [] # number of customers in the queuing system\n",
    "\n",
    "\n",
    "print('{:>10s}{:>10s}{:>10s}{:>10s}{:>10s}{:>10s}{:>10s}{:>10s}'.format(\n",
    "        'i', 't', 't_A', 't_D', 'N', 'N_A', 'N_D', 'N_B', 'W'))\n",
    "print('{:10.2f}{:10.2f}{:10.2f}{:10.0f}{:10.0f}{:10.0f}{:10.0f}{:10.2f}'.format(\n",
    "        t, t_A, t_D, N, N_A, N_D, N_B, W))\n",
    "\n",
    "# loop until simulation ends\n",
    "while t_A < np.inf or t_D < np.inf:\n",
    "    t, N, t_A, t_D, N_A, N_B, N_D, W = _delta(t, N, t_A, t_D, N_A, N_B, N_D, W)\n",
    "    \n",
    "    # append data for plotting\n",
    "    plot_t.append(t)\n",
    "    plot_B.append(N_B)\n",
    "    plot_N.append(N)\n",
    "    \n",
    "    if t < 10:\n",
    "        # display current state for the first 10 minutes\n",
    "        print('{:10.2f}{:10.2f}{:10.2f}{:10.0f}{:10.0f}{:10.0f}{:10.0f}{:10.2f}'.format(\n",
    "                t, t_A, t_D, N, N_A, N_D, N_B, W))\n",
    "\n",
    "# print key summary statistics\n",
    "print('W_bar = {:.2f}'.format(W/N_A))\n",
    "\n",
    "# plot the state trajectory\n",
    "plt.figure()\n",
    "plt.step(plot_t, plot_N, '-r', label=\"$N$\", where='post')\n",
    "plt.step(plot_t, plot_B, '-b', label=\"$N_B$\", where='post')\n",
    "plt.xlabel('Time ($t$)')\n",
    "plt.ylabel('Number Customers')\n",
    "plt.legend(loc='best')\n",
    "plt.show()"
   ]
  }
 ],
 "metadata": {
  "kernelspec": {
   "display_name": "Python 3",
   "language": "python",
   "name": "python3"
  },
  "language_info": {
   "codemirror_mode": {
    "name": "ipython",
    "version": 3
   },
   "file_extension": ".py",
   "mimetype": "text/x-python",
   "name": "python",
   "nbconvert_exporter": "python",
   "pygments_lexer": "ipython3",
   "version": "3.8.3"
  }
 },
 "nbformat": 4,
 "nbformat_minor": 5
}
