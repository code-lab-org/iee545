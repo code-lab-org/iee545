{
 "cells": [
  {
   "cell_type": "markdown",
   "id": "angry-melissa",
   "metadata": {},
   "source": [
    "# SYS 611: Inventory Model\n",
    "\n",
    "Paul T. Grogan <pgrogan@stevens.edu>\n",
    "\n",
    "This example constructs a simulation model for an inventory system using the event-centric perspective.\n",
    "\n",
    "## Dependencies\n",
    "\n",
    "This example is compatible with Python 2 environments through use of the `__future__` library function. Additionally, this example uses the `numpy` and `matplotlib.pyplot` libraries."
   ]
  },
  {
   "cell_type": "code",
   "execution_count": 4,
   "id": "starting-quilt",
   "metadata": {},
   "outputs": [],
   "source": [
    "# import the python3 behavior for importing, division, and printing in python2\n",
    "from __future__ import absolute_import, division, print_function\n",
    "\n",
    "# import the numpy package and refer to it as `np`\n",
    "import numpy as np\n",
    "\n",
    "# import the matplotlib.pyplot package and refer to it as `plt`\n",
    "import matplotlib.pyplot as plt"
   ]
  },
  {
   "cell_type": "markdown",
   "id": "palestinian-passion",
   "metadata": {},
   "source": [
    "## Process Generators\n",
    "\n",
    "The two process generators that are required to model an inventory system are inter-arrival duration (time between customer arrivals) and demand. While not required for the general model, the inter-arrival generator uses an exponentially-distributed random variable while the demand generator uses a uniform discrete random variable."
   ]
  },
  {
   "cell_type": "code",
   "execution_count": 5,
   "id": "raised-register",
   "metadata": {},
   "outputs": [],
   "source": [
    "arrival_rate = 5 # customers per day\n",
    "demand_lb = 1 # items per customer\n",
    "demand_ub = 4 # items per customer\n",
    "\n",
    "# define process generator for inter-arrival duration\n",
    "def generate_interarrival():\n",
    "    # generates a customer inter-arrival time\n",
    "    return np.random.exponential(scale=1./arrival_rate)\n",
    "\n",
    "# define process generator for customer demand\n",
    "def generate_demand():\n",
    "    # generates a customer demand\n",
    "    return np.random.randint(demand_lb, demand_ub+1)"
   ]
  },
  {
   "cell_type": "markdown",
   "id": "generous-slovak",
   "metadata": {},
   "source": [
    "## State Transition Function\n",
    "\n",
    "The state transition function processes the model logic. This function computes updates to *all* simulation variables."
   ]
  },
  {
   "cell_type": "code",
   "execution_count": 11,
   "id": "isolated-sleeping",
   "metadata": {},
   "outputs": [],
   "source": [
    "product_price = 100.00 # dollars per item\n",
    "product_cost = 50.00 # dollars per item\n",
    "holding_cost = 2.00 # dollars per item per day\n",
    "order_trigger = 15 # items\n",
    "order_target = 20 # items\n",
    "delivery_delay = 2 # days\n",
    "\n",
    "def _delta(t, x, y, t_C, t_D, R, E_o, E_h):\n",
    "    # compute the holding expense for current inventory since last time\n",
    "    E_h += holding_cost*x*(min(t_C, t_D) - t)\n",
    "    # update the simulation time\n",
    "    t = min(t_C, t_D)\n",
    "    \n",
    "    # check if this is a customer event (the tie-breaker if same time)\n",
    "    if t == t_C:\n",
    "        # generate the customer demand\n",
    "        D = generate_demand()\n",
    "        \n",
    "        # check if inventory exceeds demands - can meet all demand\n",
    "        if x > D:\n",
    "            # update revenue and inventory levels after sale\n",
    "            R += product_price*D\n",
    "            x -= D\n",
    "        # otherwise can only meet partial demand\n",
    "        else:\n",
    "            # update revenue and inventory levels after sale\n",
    "            R += product_price*x\n",
    "            x = 0\n",
    "        \n",
    "        # check if inventory falls below order trigger and no order in progress\n",
    "        if x < order_trigger and y == 0:\n",
    "            # place an order, update order expense and delivery event time\n",
    "            y = order_target - x\n",
    "            E_o += product_cost*y\n",
    "            t_D = t + delivery_delay\n",
    "        \n",
    "        # generate the next customer arrival\n",
    "        t_C += generate_interarrival()\n",
    "    # check if this is a delivery event\n",
    "    else:\n",
    "        # add the ordered products to the inventory        \n",
    "        x += y\n",
    "        \n",
    "        # reset the number ordered and delivery time\n",
    "        y = 0\n",
    "        t_D = float('inf')\n",
    "    return t, x, y, t_C, t_D, R, E_o, E_h"
   ]
  },
  {
   "cell_type": "markdown",
   "id": "guilty-element",
   "metadata": {},
   "source": [
    "## Simulation\n",
    "\n",
    "Generate a state trajectory for a specified number of state transitions."
   ]
  },
  {
   "cell_type": "code",
   "execution_count": 21,
   "id": "appreciated-syndication",
   "metadata": {},
   "outputs": [
    {
     "name": "stdout",
     "output_type": "stream",
     "text": [
      "Time = 0.16\n",
      "Inventory on Hand = 16\n",
      "Amount on Order = 0\n",
      "Event list = t_C: 0.2, t_D: inf\n",
      "Order Expenses = 0.00\n",
      "Holding Expenses = 6.35\n",
      "Revenue = 400.00\n",
      "\n",
      "Time = 0.21\n",
      "Inventory on Hand = 15\n",
      "Amount on Order = 0\n",
      "Event list = t_C: 0.4, t_D: inf\n",
      "Order Expenses = 0.00\n",
      "Holding Expenses = 8.00\n",
      "Revenue = 500.00\n",
      "\n",
      "Time = 0.43\n",
      "Inventory on Hand = 11\n",
      "Amount on Order = 9\n",
      "Event list = t_C: 0.6, t_D: 2.4\n",
      "Order Expenses = 450.00\n",
      "Holding Expenses = 14.73\n",
      "Revenue = 900.00\n",
      "\n",
      "Time = 0.63\n",
      "Inventory on Hand = 10\n",
      "Amount on Order = 9\n",
      "Event list = t_C: 0.8, t_D: 2.4\n",
      "Order Expenses = 450.00\n",
      "Holding Expenses = 18.99\n",
      "Revenue = 1000.00\n",
      "\n",
      "Time = 0.80\n",
      "Inventory on Hand = 7\n",
      "Amount on Order = 9\n",
      "Event list = t_C: 1.1, t_D: 2.4\n",
      "Order Expenses = 450.00\n",
      "Holding Expenses = 22.47\n",
      "Revenue = 1300.00\n",
      "\n"
     ]
    },
    {
     "data": {
      "image/png": "[encoded data removed]",
      "text/plain": [
       "<Figure size 432x288 with 1 Axes>"
      ]
     },
     "metadata": {
      "needs_background": "light"
     },
     "output_type": "display_data"
    },
    {
     "data": {
      "image/png": "[encoded data removed]",
      "text/plain": [
       "<Figure size 432x288 with 1 Axes>"
      ]
     },
     "metadata": {
      "needs_background": "light"
     },
     "output_type": "display_data"
    }
   ],
   "source": [
    "# initialize variables\n",
    "t = 0 # simulation time\n",
    "x = 20 # inventory\n",
    "y = 0 # number ordered\n",
    "t_C = generate_interarrival() # time of next customer arrival\n",
    "t_D = np.inf # time of next customer departure\n",
    "R = 0 # cumulative revenue\n",
    "E_o = 0 # cumulative order expense\n",
    "E_h = 0 # cumulative holding expense\n",
    "\n",
    "# initialize data lists for plotting\n",
    "plot_t = [] # simulation time\n",
    "plot_x = [] # inventory\n",
    "plot_P = [] # profit (revenue minus expenses)\n",
    "\n",
    "# function to print the current state\n",
    "def print_state():\n",
    "    print('Time = {:.2f}'.format(t))\n",
    "    print('Inventory on Hand = {:d}'.format(x))\n",
    "    print('Amount on Order = {:d}'.format(y))\n",
    "    print('Event list = t_C: {:.1f}, t_D: {:.1f}'.format(t_C, t_D))\n",
    "    print('Order Expenses = {:.2f}'.format(E_o))\n",
    "    print('Holding Expenses = {:.2f}'.format(E_h))\n",
    "    print('Revenue = {:.2f}'.format(R))\n",
    "    print('')\n",
    "\n",
    "# iterate over the first 14.0 days\n",
    "while t < 14.0:\n",
    "    t, x, y, t_C, t_D, R, E_o, E_h = _delta(t, x, y, t_C, t_D, R, E_o, E_h)\n",
    "    \n",
    "    # print the simulation state for first 1.0 days\n",
    "    if t < 1.0: print_state()\n",
    "    \n",
    "    # append data for plotting\n",
    "    plot_t.append(t)\n",
    "    plot_x.append(x)\n",
    "    plot_P.append(R-E_o-E_h)\n",
    "\n",
    "# plot the inventory state trajectory\n",
    "plt.figure()\n",
    "plt.step(plot_t, plot_x, '-r', where='post')\n",
    "plt.xlabel('Time ($t$)')\n",
    "plt.ylabel('Inventory')\n",
    "plt.show()\n",
    "\n",
    "# plot the profit state trajectory\n",
    "plt.figure()\n",
    "plt.plot(plot_t, plot_P, '-r')\n",
    "plt.xlabel('Time ($t$)')\n",
    "plt.ylabel('Profit')\n",
    "plt.show()"
   ]
  }
 ],
 "metadata": {
  "kernelspec": {
   "display_name": "Python 3",
   "language": "python",
   "name": "python3"
  },
  "language_info": {
   "codemirror_mode": {
    "name": "ipython",
    "version": 3
   },
   "file_extension": ".py",
   "mimetype": "text/x-python",
   "name": "python",
   "nbconvert_exporter": "python",
   "pygments_lexer": "ipython3",
   "version": "3.8.3"
  }
 },
 "nbformat": 4,
 "nbformat_minor": 5
}
