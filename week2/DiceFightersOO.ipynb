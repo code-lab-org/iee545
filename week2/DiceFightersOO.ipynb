{
 "cells": [
  {
   "cell_type": "markdown",
   "metadata": {},
   "source": [
    "# IEE 545: Dice Fighters (Object-oriented)\n",
    "\n",
    "Paul T. Grogan <paul.grogan@asu.edu>\n",
    "\n",
    "This file contains an object-oriented version of the dice fighters example. Object-orientation helps to solve some of the problems with globally-scoped variables in the previous example.\n",
    "\n",
    "## Dependencies\n",
    "\n",
    "This example uses the `numpy` library."
   ]
  },
  {
   "cell_type": "code",
   "execution_count": 1,
   "metadata": {},
   "outputs": [],
   "source": [
    "# import the numpy library and refer to it as `np`\n",
    "import numpy as np"
   ]
  },
  {
   "cell_type": "markdown",
   "metadata": {},
   "source": [
    "## Team Object Class\n",
    "\n",
    "The `Team` object class models either the red or blue force. It has two state variables: `size` and `chance_hit` and two state transition functions: `generate_hits` as a process generator and `suffer_losses` to update the force size."
   ]
  },
  {
   "cell_type": "code",
   "execution_count": 2,
   "metadata": {},
   "outputs": [],
   "source": [
    "# define a class to model each team\n",
    "class Team:\n",
    "    # define an initialization function\n",
    "    def __init__(self, size, chance_hit):\n",
    "        self.size = size\n",
    "        self.chance_hit = chance_hit\n",
    "    # define the generate_hits function\n",
    "    def generate_hits(self):\n",
    "        # roll random (0,1) numbers for each dice\n",
    "        attacks = np.random.rand(self.size)\n",
    "        # count the number of rolls which are lower than chance_hit\n",
    "        num_hits = sum(attacks < self.chance_hit)\n",
    "        # return the number of hits\n",
    "        return num_hits\n",
    "    # define the suffer_losses function with an argument for the number of opponent hits\n",
    "    def suffer_losses(self, opponent_hits):\n",
    "        # update the red_size based on the number of opponent hits\n",
    "        self.size -= opponent_hits"
   ]
  },
  {
   "cell_type": "markdown",
   "metadata": {},
   "source": [
    "## Match Object Class\n",
    "\n",
    "The `Match` object class models the competition between two teams. It has three state variables: `red` and `blue` for the two `Team` objects and `round_number`. It also has a derived state function `is_complete` to check if the match is complete and one state transtion function `execute` to run the match from end-to-end."
   ]
  },
  {
   "cell_type": "code",
   "execution_count": 3,
   "metadata": {},
   "outputs": [],
   "source": [
    "# define a class to model a match between red and blue\n",
    "class Match:\n",
    "    # define an initialization function\n",
    "    def __init__(self, red_size, red_chance_hit, blue_size, blue_chance_hit):\n",
    "        self.red = Team(red_size, red_chance_hit)\n",
    "        self.blue = Team(blue_size, blue_chance_hit)\n",
    "        self.round_number = 0\n",
    "    # define a function to determine if the match is complete\n",
    "    def is_complete(self):\n",
    "        # return True if either red or blue team size is less than or equal to zero\n",
    "        return (self.red.size <= 0 or self.blue.size <= 0)\n",
    "    # define the next_round state change function\n",
    "    def next_round(self):\n",
    "        # advance the round_number\n",
    "        self.round_number += 1\n",
    "    def execute(self):\n",
    "        # main execution loop: continue while the game is not complete\n",
    "        while not self.is_complete():\n",
    "            # generate the number of red hits\n",
    "            red_hits = self.red.generate_hits()\n",
    "            # generate the number of blue hits\n",
    "            blue_hits = self.blue.generate_hits()\n",
    "            # red team suffers losses of blue hits\n",
    "            self.red.suffer_losses(blue_hits)\n",
    "            # blue team suffers losses of red hits\n",
    "            self.blue.suffer_losses(red_hits)\n",
    "            # advance to the next round\n",
    "            self.next_round()\n",
    "            # print out the current state for debugging\n",
    "            print(\"Round: {:d} | Red: {:d}, Blue: {:d}\".format(\n",
    "                self.round_number, self.red.size, self.blue.size))\n",
    "        # check who won (whichever team still has fighters!)\n",
    "        if self.red.size > 0:\n",
    "            print(\"Red Wins\")\n",
    "        elif self.blue.size > 0:\n",
    "            print(\"Blue Wins\")\n",
    "        else:\n",
    "            print(\"Tie - Mutual Destruction!\")"
   ]
  },
  {
   "cell_type": "markdown",
   "metadata": {},
   "source": [
    "## Putting it All Together\n",
    "\n",
    "Once all the object classes are defined, running the simulation is very easy!"
   ]
  },
  {
   "cell_type": "code",
   "execution_count": 4,
   "metadata": {},
   "outputs": [
    {
     "name": "stdout",
     "output_type": "stream",
     "text": [
      "Round: 1 | Red: 13, Blue: 7\n",
      "Round: 2 | Red: 9, Blue: 3\n",
      "Round: 3 | Red: 8, Blue: 0\n",
      "Red Wins\n"
     ]
    }
   ],
   "source": [
    "# create a new match and execute it\n",
    "match = Match(20, 1/6, 10, 3/6)\n",
    "match.execute()"
   ]
  }
 ],
 "metadata": {
  "kernelspec": {
   "display_name": "Python 3",
   "language": "python",
   "name": "python3"
  },
  "language_info": {
   "codemirror_mode": {
    "name": "ipython",
    "version": 3
   },
   "file_extension": ".py",
   "mimetype": "text/x-python",
   "name": "python",
   "nbconvert_exporter": "python",
   "pygments_lexer": "ipython3",
   "version": "3.9.12"
  }
 },
 "nbformat": 4,
 "nbformat_minor": 4
}
