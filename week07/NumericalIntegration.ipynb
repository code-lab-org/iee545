{
 "cells": [
  {
   "cell_type": "markdown",
   "metadata": {},
   "source": [
    "# SYS 611: Numerical Integration (Continuous Time Simulation)\n",
    "\n",
    "Paul T. Grogan <pgrogan@stevens.edu>\n",
    "\n",
    "This example shows how to perform numerical integration for continuous time simulation. The system to be simulated is a hypothetical basin that is being filled with water. The state variable (q) is the volume of water in the basin. The time derivative (dq/dt=x(t)) is the flow rate of water into the basin, set to x(t)=t for this example. The output variable (y) is omitted in this example.\n",
    "\n",
    "## Dependencies\n",
    "\n",
    "This example is compatible with Python 2 environments through use of the `__future__` library function. Additionally, this example uses the `numpy` library for numerical functions, `scipy.integrate` for numerical integration, and `matplotlib.pyplot`, library for plotting."
   ]
  },
  {
   "cell_type": "code",
   "execution_count": 11,
   "metadata": {},
   "outputs": [],
   "source": [
    "# import the python3 behavior for importing, division, and printing in python2\n",
    "from __future__ import absolute_import, division, print_function\n",
    "\n",
    "# import the numpy package and refer to it as `np`\n",
    "# see http://docs.scipy.org/doc/numpy/reference/ for documentation\n",
    "import numpy as np\n",
    "\n",
    "# import the scipy integrate package and refer to it as `integrate`\n",
    "import scipy.integrate as integrate\n",
    "\n",
    "# import the matplotlib pyplot package and refer to it as `plt`\n",
    "# see http://matplotlib.org/api/pyplot_api.html for documentation\n",
    "import matplotlib.pyplot as plt"
   ]
  },
  {
   "cell_type": "markdown",
   "metadata": {},
   "source": [
    "## State Time Derivative Function\n",
    "\n",
    "Define functions for the state time derivative (dq/dt) and the input flow rate (x)."
   ]
  },
  {
   "cell_type": "code",
   "execution_count": 12,
   "metadata": {},
   "outputs": [],
   "source": [
    "# define the time derivative\n",
    "def dq_dt(q, t):\n",
    "    return x(t)\n",
    "\n",
    "# define the flow rate\n",
    "def x(t):\n",
    "    return t"
   ]
  },
  {
   "cell_type": "markdown",
   "metadata": {},
   "source": [
    "## Numerical Integration Logic\n",
    "\n",
    "Define the times for which to compute state values (using a linear space between lower- and upper-bound times) and perform the numerical integration."
   ]
  },
  {
   "cell_type": "code",
   "execution_count": 13,
   "metadata": {},
   "outputs": [],
   "source": [
    "# define the times to integrate over\n",
    "t = np.linspace(0.0, 5.0)\n",
    "\n",
    "# perform the numerical integration with initial state q[0] = 5.0\n",
    "q = integrate.odeint(dq_dt, 5.0, t)"
   ]
  },
  {
   "cell_type": "markdown",
   "metadata": {},
   "source": [
    "## Visualize Outcomes\n",
    "\n",
    "Use bar plots in `matplotlib` to plot the input, state, and output trajectories."
   ]
  },
  {
   "cell_type": "code",
   "execution_count": 14,
   "metadata": {},
   "outputs": [
    {
     "data": {
      "image/png": "[encoded data removed]",
      "text/plain": [
       "<Figure size 432x288 with 1 Axes>"
      ]
     },
     "metadata": {
      "needs_background": "light"
     },
     "output_type": "display_data"
    }
   ],
   "source": [
    "plt.figure()\n",
    "# plot the analytical solution solved with calculus (5+t^2/2) with a black line\n",
    "plt.plot(t, 5+t**2/2, '-k', label='Analytic Solution')\n",
    "# \n",
    "plt.step(t, q, '-r', where='post', label='scipy.odeint')\n",
    "plt.xlabel('Time ($t$)')\n",
    "plt.ylabel('Water Volume ($q$)')\n",
    "plt.legend(loc='best')\n",
    "plt.show()"
   ]
  }
 ],
 "metadata": {
  "kernelspec": {
   "display_name": "Python 3",
   "language": "python",
   "name": "python3"
  },
  "language_info": {
   "codemirror_mode": {
    "name": "ipython",
    "version": 3
   },
   "file_extension": ".py",
   "mimetype": "text/x-python",
   "name": "python",
   "nbconvert_exporter": "python",
   "pygments_lexer": "ipython3",
   "version": "3.7.1"
  }
 },
 "nbformat": 4,
 "nbformat_minor": 4
}
