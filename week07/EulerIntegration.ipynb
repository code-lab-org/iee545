{
 "cells": [
  {
   "cell_type": "markdown",
   "metadata": {},
   "source": [
    "# SYS 611: Euler Integration (Continuous Time Simulation)\n",
    "\n",
    "Paul T. Grogan <pgrogan@stevens.edu>\n",
    "\n",
    "This example shows how to perform Euler integration for continuous time simulation. The system to be simulated is a hypothetical basin that is being filled with water. The state variable (q) is the volume of water in the basin. The time derivative (dq/dt=x(t)) is the flow rate of water into the basin, set to x(t)=t for this example. The output variable (y) is omitted in this example.\n",
    "\n",
    "## Dependencies\n",
    "\n",
    "This example is compatible with Python 2 environments through use of the `__future__` library function. Additionally, this example uses the `numpy` library for numerical functions and `matplotlib.pyplot`, library for plotting."
   ]
  },
  {
   "cell_type": "code",
   "execution_count": 13,
   "metadata": {},
   "outputs": [],
   "source": [
    "# import the python3 behavior for importing, division, and printing in python2\n",
    "from __future__ import absolute_import, division, print_function\n",
    "\n",
    "# import the numpy package and refer to it as `np`\n",
    "# see http://docs.scipy.org/doc/numpy/reference/ for documentation\n",
    "import numpy as np\n",
    "\n",
    "# import the matplotlib pyplot package and refer to it as `plt`\n",
    "# see http://matplotlib.org/api/pyplot_api.html for documentation\n",
    "import matplotlib.pyplot as plt"
   ]
  },
  {
   "cell_type": "markdown",
   "metadata": {},
   "source": [
    "## State Transition Function (and Time Derivatives)\n",
    "Define functions for the state transition function (delta) along with the state time derivative and the flow rate."
   ]
  },
  {
   "cell_type": "code",
   "execution_count": 14,
   "metadata": {},
   "outputs": [],
   "source": [
    "# define the state transition function\n",
    "def _delta(q, dq_dt, delta_t):\n",
    "    return q + delta_t*dq_dt\n",
    "\n",
    "# define the time derivative\n",
    "def dq_dt(q, t):\n",
    "    return x(t)\n",
    "\n",
    "# define the flow rate\n",
    "def x(t):\n",
    "    return t"
   ]
  },
  {
   "cell_type": "markdown",
   "metadata": {},
   "source": [
    "## State and Output Trajectories\n",
    "\n",
    "Define lists to store the state and time trajectories (initialize with zero value)."
   ]
  },
  {
   "cell_type": "code",
   "execution_count": 15,
   "metadata": {},
   "outputs": [],
   "source": [
    "# define the state and time trajectories (zero initial value)\n",
    "q = np.zeros(num_steps + 1)\n",
    "t = np.zeros(num_steps + 1)"
   ]
  },
  {
   "cell_type": "markdown",
   "metadata": {},
   "source": [
    "## Continuous Time Simulation Logic\n",
    "\n",
    "The discrete event simulation should start by setting the initial time and state. Then, enter a loop to:\n",
    "1. Compute the current output\n",
    "2. Compute the next state\n",
    "3. Update the time"
   ]
  },
  {
   "cell_type": "code",
   "execution_count": 16,
   "metadata": {},
   "outputs": [],
   "source": [
    "# configure the simulation\n",
    "delta_t = 0.5\n",
    "num_steps = int(5.0/delta_t)\n",
    "\n",
    "# initialize the simulation\n",
    "q[0] = 5.0\n",
    "t[0] = 0.0\n",
    "\n",
    "# execute the simulation\n",
    "for i in range(num_steps):\n",
    "  q[i+1] = _delta(q[i], dq_dt(q[i], t[i]), delta_t)\n",
    "  t[i+1] = t[i] + delta_t"
   ]
  },
  {
   "cell_type": "markdown",
   "metadata": {},
   "source": [
    "## Visualize Outcomes\n",
    "\n",
    "Use bar plots in `matplotlib` to plot the input, state, and output trajectories."
   ]
  },
  {
   "cell_type": "code",
   "execution_count": 17,
   "metadata": {},
   "outputs": [
    {
     "data": {
      "image/png": "[encoded data removed]",
      "text/plain": [
       "<Figure size 432x288 with 1 Axes>"
      ]
     },
     "metadata": {
      "needs_background": "light"
     },
     "output_type": "display_data"
    }
   ],
   "source": [
    "plt.figure()\n",
    "# plot the analytical solution solved with calculus (5+t^2/2) with a black line\n",
    "plt.plot(t, 5+t**2/2, '-k', label='Analytic Solution')\n",
    "# plot the simulated solution with a red line\n",
    "plt.step(t, q, '-r', where='post', label='Euler $\\Delta t={:}$'.format(delta_t))\n",
    "# label and display pot\n",
    "plt.xlabel('Time ($t$)')\n",
    "plt.ylabel('Water Volume ($q$)')\n",
    "plt.legend(loc='best')\n",
    "plt.show()"
   ]
  }
 ],
 "metadata": {
  "kernelspec": {
   "display_name": "Python 3",
   "language": "python",
   "name": "python3"
  },
  "language_info": {
   "codemirror_mode": {
    "name": "ipython",
    "version": 3
   },
   "file_extension": ".py",
   "mimetype": "text/x-python",
   "name": "python",
   "nbconvert_exporter": "python",
   "pygments_lexer": "ipython3",
   "version": "3.7.1"
  }
 },
 "nbformat": 4,
 "nbformat_minor": 4
}
