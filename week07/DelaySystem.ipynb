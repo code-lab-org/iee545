{
 "cells": [
  {
   "cell_type": "markdown",
   "metadata": {},
   "source": [
    "# SYS 611: Delay System (Discrete Time Simulation)\n",
    "\n",
    "Paul T. Grogan <pgrogan@stevens.edu>\n",
    "\n",
    "This example shows how to construct a discrete time simulation of a simple delay system. The delay system has one binary state variable (q), one binary input variable (x), and one binary output variable (y). The output function returns the current input so y(t)=x(t). The state transition function stores the current input so q(t+1)=x(t).\n",
    "\n",
    "## Dependencies\n",
    "\n",
    "This example is compatible with Python 2 environments through use of the `__future__` library function. Additionally, this example uses the `matplotlib.pyplot` library for plotting."
   ]
  },
  {
   "cell_type": "code",
   "execution_count": 19,
   "metadata": {},
   "outputs": [],
   "source": [
    "# import the python3 behavior for importing, division, and printing in python2\n",
    "from __future__ import absolute_import, division, print_function\n",
    "\n",
    "# import the matplotlib pyplot package and refer to it as `plt`\n",
    "# see http://matplotlib.org/api/pyplot_api.html for documentation\n",
    "import matplotlib.pyplot as plt"
   ]
  },
  {
   "cell_type": "markdown",
   "metadata": {},
   "source": [
    "## Transition and Output Functions\n",
    "\n",
    "Define functions for the state transition function (delta) and output function (lambda). Note that `lambda` is a reserved word in Python (for lambda functions), so both Greek letters are prefixed by an underscore."
   ]
  },
  {
   "cell_type": "code",
   "execution_count": 20,
   "metadata": {},
   "outputs": [],
   "source": [
    "# define the state transition function\n",
    "def _delta(q, x): \n",
    "    return x\n",
    "    \n",
    "# define the output function\n",
    "def _lambda(q, x): \n",
    "    return x"
   ]
  },
  {
   "cell_type": "markdown",
   "metadata": {},
   "source": [
    "## Input, State, and Output Trajectories\n",
    "\n",
    "Define lists to store the input trajectory and store the computed output and state trajectories (initialize with zero value)."
   ]
  },
  {
   "cell_type": "code",
   "execution_count": 21,
   "metadata": {},
   "outputs": [],
   "source": [
    "# define the input trajectory\n",
    "x = [1,1,0,0,1,0,0,0,1]\n",
    "    \n",
    "# define the output and state trajectories (zero initial value)\n",
    "y = [0,0,0,0,0,0,0,0,0]\n",
    "q = [0,0,0,0,0,0,0,0,0,0]"
   ]
  },
  {
   "cell_type": "markdown",
   "metadata": {},
   "source": [
    "## Discrete Time Simulation Logic\n",
    "\n",
    "The discrete event simulation should start by setting the initial time and state. Then, enter a loop to:\n",
    "1. Compute the current output\n",
    "2. Compute the next state\n",
    "3. Update the time"
   ]
  },
  {
   "cell_type": "code",
   "execution_count": 22,
   "metadata": {},
   "outputs": [],
   "source": [
    "# initialize the simulation\n",
    "t = 0\n",
    "q[0] = 0\n",
    "\n",
    "# execute the simulation\n",
    "while t <= 8:\n",
    "    # record output value\n",
    "    y[t] = _lambda(q[t], x[t])\n",
    "    # record state update\n",
    "    q[t+1] = _delta(q[t], x[t])\n",
    "    # advance time\n",
    "    t += 1"
   ]
  },
  {
   "cell_type": "markdown",
   "metadata": {},
   "source": [
    "## Visualize Outcomes\n",
    "\n",
    "Use bar plots in `matplotlib` to plot the input, state, and output trajectories."
   ]
  },
  {
   "cell_type": "code",
   "execution_count": 23,
   "metadata": {},
   "outputs": [
    {
     "data": {
      "text/plain": [
       "<Figure size 432x288 with 0 Axes>"
      ]
     },
     "metadata": {},
     "output_type": "display_data"
    },
    {
     "data": {
      "image/png": "[encoded data removed]",
      "text/plain": [
       "<Figure size 432x288 with 3 Axes>"
      ]
     },
     "metadata": {
      "needs_background": "light"
     },
     "output_type": "display_data"
    }
   ],
   "source": [
    "plt.figure()\n",
    "# create three subplots that all share a common x-axis\n",
    "f, (ax1, ax2, ax3) = plt.subplots(3, sharex=True)\n",
    "# plot the input trajectory on the first subplot\n",
    "ax1.bar(range(9), x, color='k')\n",
    "ax1.set_ylabel('Input ($x$)')\n",
    "# plot the state trajectory on the second subplot (up to second-to-last value)\n",
    "ax2.bar(range(9), q[:-1], color='k')\n",
    "ax2.set_ylabel('State ($q$)')\n",
    "# plot the output trajectory on the third subplot\n",
    "ax3.bar(range(9), y, color='k')\n",
    "ax3.set_ylabel('Output ($y$)')\n",
    "# add labels and display\n",
    "plt.xlabel('Time (ticks)')\n",
    "plt.suptitle('Delay System Model')\n",
    "plt.show()"
   ]
  }
 ],
 "metadata": {
  "kernelspec": {
   "display_name": "Python 3",
   "language": "python",
   "name": "python3"
  },
  "language_info": {
   "codemirror_mode": {
    "name": "ipython",
    "version": 3
   },
   "file_extension": ".py",
   "mimetype": "text/x-python",
   "name": "python",
   "nbconvert_exporter": "python",
   "pygments_lexer": "ipython3",
   "version": "3.7.1"
  }
 },
 "nbformat": 4,
 "nbformat_minor": 4
}
