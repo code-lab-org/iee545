{
 "cells": [
  {
   "cell_type": "markdown",
   "id": "personalized-garlic",
   "metadata": {},
   "source": [
    "# SYS 611: Weather Markov Chain Model\n",
    "\n",
    "Paul T. Grogan <pgrogan@stevens.edu>\n",
    "\n",
    "This example constructs a Markov chain model of weather conditions.\n",
    "\n",
    "## Dependencies\n",
    "\n",
    "This example is compatible with Python 2 environments through use of the `__future__` library function. Additionally, this example uses the `numpy` and `matplotlib.pyplot` libraries."
   ]
  },
  {
   "cell_type": "code",
   "execution_count": 2,
   "id": "atomic-concord",
   "metadata": {},
   "outputs": [],
   "source": [
    "# import the python3 behavior for importing, division, and printing in python2\n",
    "from __future__ import absolute_import, division, print_function\n",
    "\n",
    "# import the numpy package and refer to it as `np`\n",
    "import numpy as np\n",
    "# import the matplotlib.pyplot package and refer to it as `plt`\n",
    "import matplotlib.pyplot as plt"
   ]
  },
  {
   "cell_type": "markdown",
   "id": "stock-firmware",
   "metadata": {},
   "source": [
    "## State Transition Function\n",
    "\n",
    "The state transition function is a process generator that samples the next state based on the current state. It uses the state transition function `P` where cell `(i,j)` specifies the probability of transitioning from state `i` to state `j`."
   ]
  },
  {
   "cell_type": "code",
   "execution_count": 43,
   "id": "loose-vertical",
   "metadata": {},
   "outputs": [],
   "source": [
    "# state transition matrix; cell (i,j) is the probability of transitioning from state i to state j\n",
    "P = [[186/250, 47/250, 17/250], \n",
    "     [47/89, 40/89, 2/89],\n",
    "     [16/25, 3/25, 6/25]]\n",
    "\n",
    "# define the state transition function\n",
    "def _delta(q):\n",
    "    r = np.random.rand()\n",
    "    # if it is a clear day\n",
    "    if q == 0:\n",
    "        if r < P[0][0]:\n",
    "            # another clear day\n",
    "            return 0\n",
    "        elif r < P[0][0]+P[0][1]:\n",
    "            # a rainy day next\n",
    "            return 1\n",
    "        else:\n",
    "            # a snowy day next\n",
    "            return 2\n",
    "    # if it is a rainy day\n",
    "    elif q == 1:\n",
    "        if r < P[1][0]:\n",
    "            # a clear day next\n",
    "            return 0\n",
    "        elif r < P[1][0]+P[1][1]:\n",
    "            # another rainy day\n",
    "            return 1\n",
    "        else:\n",
    "            # a snowy day next\n",
    "            return 2\n",
    "    # if it is a snowy day\n",
    "    else:\n",
    "        if r < P[2][0]:\n",
    "            # a clear day next\n",
    "            return 0\n",
    "        elif r < P[2][0]+P[2][1]:\n",
    "            # a rainy day next\n",
    "            return 1\n",
    "        else:\n",
    "            # another snowy day\n",
    "            return 2\n",
    "    \"\"\"\n",
    "    # alternatively, this function could be replaced with the following:\n",
    "    pmf = P[int(q)]\n",
    "    cdf = np.cumsum(pmf)\n",
    "    for i in range(len(cdf)):\n",
    "        if r < cdf[i]:\n",
    "            return i\n",
    "    \"\"\""
   ]
  },
  {
   "cell_type": "markdown",
   "id": "flying-parking",
   "metadata": {},
   "source": [
    "## Simulation\n",
    "\n",
    "Generate a state trajectory for a specified number of state transitions."
   ]
  },
  {
   "cell_type": "code",
   "execution_count": 44,
   "id": "english-riverside",
   "metadata": {},
   "outputs": [
    {
     "data": {
      "image/png": "[encoded data removed]",
      "text/plain": [
       "<Figure size 432x288 with 1 Axes>"
      ]
     },
     "metadata": {
      "needs_background": "light"
     },
     "output_type": "display_data"
    }
   ],
   "source": [
    "# define the number of samples and create a state trajectory\n",
    "num_samples = 100\n",
    "np.random.seed(0)\n",
    "q = np.zeros(num_samples)\n",
    "\n",
    "# perform all the state transitions\n",
    "for t in range(num_samples - 1):\n",
    "    q[t+1] = _delta(q[t])\n",
    "\n",
    "# create a plot of the state trajectory\n",
    "plt.figure()\n",
    "plt.step(range(num_samples), q, '-r')\n",
    "plt.xlabel('Time ($t$)')\n",
    "plt.ylabel('State ($q$)')\n",
    "plt.yticks([0,1,2], ['0: Clear','1: Rainy','2: Snowy'])\n",
    "plt.show()"
   ]
  },
  {
   "cell_type": "markdown",
   "id": "emotional-friendship",
   "metadata": {},
   "source": [
    "## Estimating the Steady-state Stochastic Distribution\n",
    "\n",
    "Using the simulated samples, we can estimate the steady-state stochastic distribution (`pi`) by estimating the fraction of samples in each state. This estimate is affected by the initial conditions and other source of natural variation instrinsic to simulation."
   ]
  },
  {
   "cell_type": "code",
   "execution_count": 45,
   "id": "identified-cannon",
   "metadata": {},
   "outputs": [
    {
     "name": "stdout",
     "output_type": "stream",
     "text": [
      "estimated stationary distribution (solved using simulation):\n",
      " P(q=0) = 0.770 (clear day)\n",
      " P(q=1) = 0.160 (rainy day)\n",
      " P(q=2) = 0.070 (snowy day)\n"
     ]
    }
   ],
   "source": [
    "# estimate the stationary distribution from the samples\n",
    "pi = np.zeros(3)\n",
    "for i in range(3):\n",
    "    pi[i] = np.sum(q==i)/num_samples\n",
    "\n",
    "print('estimated stationary distribution (solved using simulation):')\n",
    "print(' P(q=0) = {:.3f} (clear day)'.format(pi[0]))\n",
    "print(' P(q=1) = {:.3f} (rainy day)'.format(pi[1]))\n",
    "print(' P(q=2) = {:.3f} (snowy day)'.format(pi[2]))"
   ]
  },
  {
   "cell_type": "markdown",
   "id": "blocked-defense",
   "metadata": {},
   "source": [
    "## Steady-state Analysis (Using Linear Algebra)\n",
    "\n",
    "Alternatively, we can solve for the steady-state stochastic distribution using linear algebra. Here, `P` is the state transition matrix and `v` are its eigenvectors. The steady-state stochastic distribution (`pi`) is the normalized eigenvector corresponding to the eigenvalue of 1."
   ]
  },
  {
   "cell_type": "code",
   "execution_count": 46,
   "id": "convertible-basics",
   "metadata": {},
   "outputs": [
    {
     "name": "stdout",
     "output_type": "stream",
     "text": [
      "exact stationary distribution (solved using eigenvectors):\n",
      " P(q=0) = 0.683 (clear day)\n",
      " P(q=1) = 0.248 (rainy day)\n",
      " P(q=2) = 0.068 (snowy day)\n"
     ]
    }
   ],
   "source": [
    "# compute the eigenvalues and eigenvectors of the transpose of P\n",
    "w,v = np.linalg.eig(np.transpose(P))\n",
    "\n",
    "# the stationary distribution is the normalized eigenvector \n",
    "# corresponding to the eigenvalue of 1\n",
    "pi_exact = v[:,0]/np.sum(v[:,0])\n",
    "\n",
    "print('exact stationary distribution (solved using eigenvectors):')\n",
    "print(' P(q=0) = {:.3f} (clear day)'.format(pi_exact[0]))\n",
    "print(' P(q=1) = {:.3f} (rainy day)'.format(pi_exact[1]))\n",
    "print(' P(q=2) = {:.3f} (snowy day)'.format(pi_exact[2]))"
   ]
  }
 ],
 "metadata": {
  "kernelspec": {
   "display_name": "Python 3",
   "language": "python",
   "name": "python3"
  },
  "language_info": {
   "codemirror_mode": {
    "name": "ipython",
    "version": 3
   },
   "file_extension": ".py",
   "mimetype": "text/x-python",
   "name": "python",
   "nbconvert_exporter": "python",
   "pygments_lexer": "ipython3",
   "version": "3.8.3"
  }
 },
 "nbformat": 4,
 "nbformat_minor": 5
}
