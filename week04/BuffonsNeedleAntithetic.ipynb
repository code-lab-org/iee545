{
 "cells": [
  {
   "cell_type": "markdown",
   "id": "determined-smart",
   "metadata": {},
   "source": [
    "# SYS 611: Buffon's Needle (Monte Carlo Simulation with Antithetic Variables)\n",
    "\n",
    "Paul T. Grogan <pgrogan@stevens.edu>\n",
    "\n",
    "This example shows how to conduct a Monte Carlo simulation for the Buffon's Needle problem using antithetic variables.\n",
    "\n",
    "## Dependencies\n",
    "\n",
    "This example is compatible with Python 2 environments through use of the `__future__` library function. Additionally, this example uses the `numpy`, `scipy.stats`, and `matplotlib.pyplot` libraries."
   ]
  },
  {
   "cell_type": "code",
   "execution_count": 20,
   "id": "stopped-arnold",
   "metadata": {},
   "outputs": [],
   "source": [
    "# import the python3 behavior for importing, division, and printing in python2\n",
    "from __future__ import absolute_import, division, print_function\n",
    "\n",
    "# import the numpy library and refer to it as `np`\n",
    "import numpy as np\n",
    "\n",
    "# import the scipy.stats library and refer to it as `stats`\n",
    "import scipy.stats as stats\n",
    "\n",
    "# import the matplotlib pyplot package and refer to it as `plt`\n",
    "import matplotlib.pyplot as plt"
   ]
  },
  {
   "cell_type": "markdown",
   "id": "macro-latino",
   "metadata": {},
   "source": [
    "## Problem Configuration\n",
    "\n",
    "Two variables set the line width (spacing between lines) and needle length."
   ]
  },
  {
   "cell_type": "code",
   "execution_count": 21,
   "id": "unusual-advance",
   "metadata": {},
   "outputs": [],
   "source": [
    "line_width = 3.0\n",
    "needle_length = 2.5"
   ]
  },
  {
   "cell_type": "markdown",
   "id": "gorgeous-techno",
   "metadata": {},
   "source": [
    "## Sample Generator\n",
    "\n",
    "The `drop_needle` function defines a process generator for the derived random variable whether a dropped needle crosses a line. This implementation uses antithetic variables to reduce variation across samples."
   ]
  },
  {
   "cell_type": "code",
   "execution_count": 22,
   "id": "genetic-dublin",
   "metadata": {},
   "outputs": [],
   "source": [
    "def drop_needle():\n",
    "    r_1 = np.random.rand()\n",
    "    r_2 = np.random.rand()\n",
    "    # generate distance between needle centroid and nearest line from uniform \n",
    "    # distribution between 0 and line_width/2\n",
    "    d_1 = r_1*line_width/2\n",
    "    d_2 = (1-r_1)*line_width/2\n",
    "    # generate acute angle between needle and line from uniform distribution\n",
    "    # between 0 and pi/2 radians\n",
    "    theta_1 = r_2*np.pi/2\n",
    "    theta_2 = (1-r_2)*np.pi/2\n",
    "    \n",
    "    # for each antithetic variable, record 1 if d < needle_length/2*sin(theta)\n",
    "    # otherwise record 0\n",
    "    x_1 = 1 if d_1 < needle_length/2*np.sin(theta_1) else 0\n",
    "    x_2 = 1 if d_2 < needle_length/2*np.sin(theta_2) else 0\n",
    "    # return the average of the two antithetic variables\n",
    "    return (x_1+x_2)/2."
   ]
  },
  {
   "cell_type": "markdown",
   "id": "becoming-plaza",
   "metadata": {},
   "source": [
    "## Monte Carlo Simulation\n",
    "\n",
    "This section sets up and performs a Monte Carlo simulation."
   ]
  },
  {
   "cell_type": "code",
   "execution_count": 23,
   "id": "circular-anchor",
   "metadata": {},
   "outputs": [
    {
     "name": "stdout",
     "output_type": "stream",
     "text": [
      "p = 0.522 +/- 0.010 (95% CI)\n",
      "exact: p = 0.531\n"
     ]
    }
   ],
   "source": [
    "# set the random number generator seed to 0\n",
    "np.random.seed(0)\n",
    "\n",
    "# generate 850 samples\n",
    "samples = [drop_needle() for i in range(850)]\n",
    "\n",
    "# compute the lower and upper-bounds using a 95% confidence interval\n",
    "confidence_level = 0.05\n",
    "z_crit = stats.norm.ppf(1-confidence_level/2)\n",
    "\n",
    "print('p = {:.3f} +/- {:.3f} (95% CI)'.format(\n",
    "        np.average(samples),\n",
    "        z_crit*stats.sem(samples)\n",
    "    ))\n",
    "\n",
    "# compute the exact solution, as solved by calculus\n",
    "solution = 2*needle_length/(line_width*np.pi)\n",
    "\n",
    "print('exact: p = {:.3f}'.format(solution))"
   ]
  },
  {
   "cell_type": "markdown",
   "id": "connected-ocean",
   "metadata": {},
   "source": [
    "## Visualizing Running Statistics\n",
    "\n",
    "Alternatively, one can visualize the running statistics throughout the Monte Carlo simulation, illustrating convergence to the expected value."
   ]
  },
  {
   "cell_type": "code",
   "execution_count": 24,
   "id": "cross-string",
   "metadata": {},
   "outputs": [
    {
     "data": {
      "image/png": "[encoded data removed]",
      "text/plain": [
       "<Figure size 432x288 with 1 Axes>"
      ]
     },
     "metadata": {
      "needs_background": "light"
     },
     "output_type": "display_data"
    }
   ],
   "source": [
    "# compute running statistics for mean and confidence interval\n",
    "mean_estimate = np.array([np.average(samples[0:i]) for i in range(2,len(samples))])\n",
    "confidence_int = z_crit*np.array([stats.sem(samples[0:i]) for i in range(2,len(samples))])\n",
    "\n",
    "# create a plot to show the mean estimate with 95% confidence interval bounds\n",
    "plt.figure()\n",
    "plt.plot(range(2,len(samples)), mean_estimate, \n",
    "         'b', label='Mean Estimate')\n",
    "plt.plot(range(2,len(samples)), mean_estimate-confidence_int, \n",
    "         'g', label='95% CI Lower Bound')\n",
    "plt.plot(range(2,len(samples)), mean_estimate+confidence_int, \n",
    "         'r', label='95% CI Upper Bound')\n",
    "plt.plot([0, len(samples)], [solution, solution], \n",
    "          '-k', label='Analytical Solution')\n",
    "plt.xlabel('Sample')\n",
    "plt.ylabel('Estimate of $p$')\n",
    "plt.legend(loc='best')\n",
    "plt.show()"
   ]
  },
  {
   "cell_type": "markdown",
   "id": "controlled-acquisition",
   "metadata": {},
   "source": [
    "## Estimating Pi\n",
    "\n",
    "Recall that the probability of a needle crossing a line is `p=(2*needle_length)(line_width*pi)` and, equivalently, pi is equal to `(2*needle_length)/(line_width*p)`. This result can be used to scale the estimates obtained from the Monte Carlo simulation."
   ]
  },
  {
   "cell_type": "code",
   "execution_count": 25,
   "id": "resistant-suffering",
   "metadata": {},
   "outputs": [
    {
     "name": "stdout",
     "output_type": "stream",
     "text": [
      "pi = 3.194 +/- 0.062 (95% CI)\n"
     ]
    },
    {
     "data": {
      "image/png": "[encoded data removed]",
      "text/plain": [
       "<Figure size 432x288 with 1 Axes>"
      ]
     },
     "metadata": {
      "needs_background": "light"
     },
     "output_type": "display_data"
    }
   ],
   "source": [
    "# transform the mean estimate to estimate pi using the solution form\n",
    "pi_estimate = 2*needle_length/(line_width*mean_estimate)\n",
    "pi_lower_bound = 2*needle_length/(line_width*(mean_estimate+confidence_int))\n",
    "pi_upper_bound = 2*needle_length/(line_width*(mean_estimate-confidence_int))\n",
    "\n",
    "print('pi = {:.3f} +/- {:.3f} (95% CI)'.format(\n",
    "        pi_estimate[-1],\n",
    "        pi_upper_bound[-1] - pi_estimate[-1]\n",
    "    ))\n",
    "\n",
    "# create a plot to show the pi estimate with 95% confidence interval bounds\n",
    "plt.figure()\n",
    "plt.plot(range(2,len(samples)), pi_estimate, \n",
    "         'b', label='Mean Estimate')\n",
    "plt.plot(range(2,len(samples)), pi_lower_bound, \n",
    "         'g', label='95% CI Lower Bound')\n",
    "plt.plot(range(2,len(samples)), pi_upper_bound, \n",
    "         'r', label='95% CI Upper Bound')\n",
    "plt.plot([2, len(samples)], [np.pi, np.pi], \n",
    "         '-k', label='Analytical Solution')\n",
    "plt.xlabel('Sample')\n",
    "plt.ylabel('Estimate of $\\pi$')\n",
    "plt.legend(loc='best')\n",
    "plt.show()"
   ]
  }
 ],
 "metadata": {
  "kernelspec": {
   "display_name": "Python 3",
   "language": "python",
   "name": "python3"
  },
  "language_info": {
   "codemirror_mode": {
    "name": "ipython",
    "version": 3
   },
   "file_extension": ".py",
   "mimetype": "text/x-python",
   "name": "python",
   "nbconvert_exporter": "python",
   "pygments_lexer": "ipython3",
   "version": "3.8.3"
  }
 },
 "nbformat": 4,
 "nbformat_minor": 5
}
