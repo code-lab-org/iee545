{
 "cells": [
  {
   "cell_type": "markdown",
   "metadata": {},
   "source": [
    "# SYS 611: Dice Fighters Example (Monte Carlo Simulation)\n",
    "\n",
    "Paul T. Grogan <pgrogan@stevens.edu>\n",
    "\n",
    "This example shows how to conduct a Monte Carlo simulation with the Dice Fighters model previously developed.\n",
    "\n",
    "## Dependencies\n",
    "\n",
    "This example is compatible with Python 2 environments through use of the `__future__` library function. Additionally, this example uses the `numpy`, `scipy.stats`, and `matplotlib.pyplot` libraries."
   ]
  },
  {
   "cell_type": "code",
   "execution_count": 58,
   "metadata": {},
   "outputs": [],
   "source": [
    "# import the python3 behavior for importing, division, and printing in python2\n",
    "from __future__ import absolute_import, division, print_function\n",
    "\n",
    "# import the numpy library and refer to it as `np`\n",
    "import numpy as np\n",
    "\n",
    "# import the scipy.stats library and refer to it as `stats`\n",
    "import scipy.stats as stats\n",
    "\n",
    "# import the matplotlib pyplot package and refer to it as `plt`\n",
    "import matplotlib.pyplot as plt"
   ]
  },
  {
   "cell_type": "markdown",
   "metadata": {},
   "source": [
    "## Model Definition\n",
    "\n",
    "### Elementary State Variables\n",
    "\n",
    "There are five elementary state variables defined below:\n",
    " * `round_number`: Current round number\n",
    " * `red_size`: Red force size \n",
    " * `blue_size`: Blue force size\n",
    " * `red_chance_hit`: Red team probability of landing a 'hit' on a blue team\n",
    " * `blue_chance_hit`: Blue team probability of landing a 'hit' on a red team\n",
    "\n",
    "All variables are defined with global scope and initialized to an initial value."
   ]
  },
  {
   "cell_type": "code",
   "execution_count": 59,
   "metadata": {},
   "outputs": [],
   "source": [
    "round_number = 0\n",
    "red_size = 20\n",
    "blue_size = 10\n",
    "red_chance_hit = 1/6\n",
    "blue_chance_hit = 3/6"
   ]
  },
  {
   "cell_type": "markdown",
   "metadata": {},
   "source": [
    "### Derived State Variables\n",
    "\n",
    "There is one derived state variable defined below:\n",
    " * `is_complete`: Determines if a game is complete."
   ]
  },
  {
   "cell_type": "code",
   "execution_count": 60,
   "metadata": {},
   "outputs": [],
   "source": [
    "def is_complete():\n",
    "    \"\"\"\n",
    "    Check if the game is complete, meaning at least one team has no forces remaining.\n",
    "    Return True if the game is complete, False otherwise.\n",
    "    \"\"\"\n",
    "    return (red_size <= 0 or blue_size <= 0)"
   ]
  },
  {
   "cell_type": "markdown",
   "metadata": {},
   "source": [
    "### Process Generators\n",
    "\n",
    "There are two process generator functions defined below:\n",
    " * `generate_red_hits`: a process generator to determine how many hits the red team scores\n",
    " * `generate_blue_hits`: a process generator to determine how many hits the blue team scores\n",
    "\n",
    "These functions use the built-in binomial process generator in numpy to generate the number of hits based on the number of forces remaining."
   ]
  },
  {
   "cell_type": "code",
   "execution_count": 61,
   "metadata": {},
   "outputs": [],
   "source": [
    "# define the generate_red_hits function\n",
    "def generate_red_hits():\n",
    "    \"\"\"\n",
    "    Randomly generate the number of red hits on the blue team.\n",
    "    \"\"\"\n",
    "    # use a built-in numpy process generator:\n",
    "    return np.random.binomial(red_size, red_chance_hit)\n",
    "\n",
    "# define the generate_blue_hits function\n",
    "def generate_blue_hits():\n",
    "    \"\"\"\n",
    "    Randomly generate the number of blue hits on the red team.\n",
    "    \"\"\"\n",
    "    # use a built-in numpy process generator:\n",
    "    return np.random.binomial(blue_size, blue_chance_hit)"
   ]
  },
  {
   "cell_type": "markdown",
   "metadata": {},
   "source": [
    "### State Transition Functions\n",
    "\n",
    "There are three state transition functions defined below:\n",
    " * `red_suffer_losses`: decreases the red force size by the number of blue hits\n",
    " * `generate_red_hits`: decreases the blue force size by the number of red hits\n",
    " * `next_round`: advances to the next round"
   ]
  },
  {
   "cell_type": "code",
   "execution_count": 62,
   "metadata": {},
   "outputs": [],
   "source": [
    "def red_suffer_losses(opponent_hits):\n",
    "    \"\"\"\n",
    "    Decrease the red team size by the number of blue hits.\n",
    "    \"\"\"\n",
    "    # (note: red_size must be declared as a global variable to update in this function!)\n",
    "    global red_size\n",
    "    # update the red_size based on the number of opponent hits\n",
    "    red_size -= opponent_hits\n",
    "\n",
    "def blue_suffer_losses(opponent_hits):\n",
    "    \"\"\"\n",
    "    Decrease the blue team size by the number of red hits.\n",
    "    \"\"\"\n",
    "    # (note: blue_size must be declared as a global variable to update in this function!)\n",
    "    global blue_size\n",
    "    # update the blue_size based on number of opponent hits\n",
    "    blue_size -= opponent_hits\n",
    "\n",
    "def next_round():\n",
    "    \"\"\"\n",
    "    Advance to the next round.\n",
    "    \"\"\"\n",
    "    # (note: round_number must be declared as a global variable to update in this function!)\n",
    "    global round_number\n",
    "    # advance the round_number\n",
    "    round_number += 1"
   ]
  },
  {
   "cell_type": "markdown",
   "metadata": {},
   "source": [
    "## Sample Generator\n",
    "\n",
    "The `generate_winner` function runs a complete dice fighters match as a process generator for the derived random variable indicating the winner (`red`, `blue`, or `tie`)."
   ]
  },
  {
   "cell_type": "code",
   "execution_count": 63,
   "metadata": {},
   "outputs": [
    {
     "name": "stdout",
     "output_type": "stream",
     "text": [
      "red\n"
     ]
    }
   ],
   "source": [
    "def generate_winner():\n",
    "    # declare global variables for any elementary state to be modified during execution\n",
    "    global round_number, red_size, blue_size\n",
    "    \n",
    "    # reset the elementary state variables to initial values\n",
    "    round_number = 0\n",
    "    red_size = 20\n",
    "    blue_size = 10\n",
    "\n",
    "    # main execution loop: continue while the game is not complete\n",
    "    while not is_complete():\n",
    "        # generate the number of red hits\n",
    "        red_hits = generate_red_hits()\n",
    "        # generate the number of blue hits\n",
    "        blue_hits = generate_blue_hits()\n",
    "        # red team suffers losses of blue hits\n",
    "        red_suffer_losses(blue_hits)\n",
    "        # blue team suffers losses of red hits\n",
    "        blue_suffer_losses(red_hits)\n",
    "        # advance to the next round\n",
    "        next_round()\n",
    "        \n",
    "    # after main loop exists, check who won (whichever team still has fighters!)\n",
    "    if red_size > 0:\n",
    "        return 'red'\n",
    "    elif blue_size > 0:\n",
    "        return 'blue'\n",
    "    else:\n",
    "        return 'tie'\n",
    "\n",
    "print(generate_winner())"
   ]
  },
  {
   "cell_type": "markdown",
   "metadata": {},
   "source": [
    "## Monte Carlo Simulation\n",
    "\n",
    "This section sets up and performs a Monte Carlo simulation using the `generate_winner` process generator above for 10000 samples."
   ]
  },
  {
   "cell_type": "code",
   "execution_count": 64,
   "metadata": {},
   "outputs": [
    {
     "data": {
      "image/png": "[encoded data removed]",
      "text/plain": [
       "<Figure size 432x288 with 1 Axes>"
      ]
     },
     "metadata": {
      "needs_background": "light"
     },
     "output_type": "display_data"
    },
    {
     "name": "stdout",
     "output_type": "stream",
     "text": [
      "P(W=red) = 0.774 +/- 0.008 (95% CI)\n",
      "P(W=tie) = 0.004 +/- 0.001 (95% CI)\n"
     ]
    }
   ],
   "source": [
    "# seed the random number generator for consistent results\n",
    "np.random.seed(0)\n",
    "\n",
    "# generate samples and store in a numpy array\n",
    "samples = np.array([generate_winner() for i in range(10000)])\n",
    "\n",
    "# create a histogram to show the distribution of winners\n",
    "plt.figure()\n",
    "plt.hist(samples, align='left')\n",
    "plt.xlabel('Winner')\n",
    "plt.ylabel('Frequency')\n",
    "plt.show()\n",
    "\n",
    "# compute the z factor for confidence intervals (1.95 for 95% confidence interval)\n",
    "confidence_level = 0.05\n",
    "z_crit = stats.norm.ppf(1-confidence_level/2)\n",
    "\n",
    "# report the 95% confidence interval for red winning\n",
    "print('P(W=red) = {:.3f} +/- {:.3f} (95% CI)'.format(\n",
    "        np.average(samples=='red'),\n",
    "        z_crit*stats.sem(samples=='red')\n",
    "    ))\n",
    "\n",
    "# just for fun, report the 95% confidence interval for tie games\n",
    "print('P(W=tie) = {:.3f} +/- {:.3f} (95% CI)'.format(\n",
    "        np.average(samples=='tie'),\n",
    "        z_crit*stats.sem(samples=='tie')\n",
    "    ))"
   ]
  },
  {
   "cell_type": "markdown",
   "metadata": {},
   "source": [
    "## Visualizing Running Statistics\n",
    "\n",
    "Alternatively, one can visualize the running statistics throughout the Monte Carlo simulation, illustrating convergence to the expected value."
   ]
  },
  {
   "cell_type": "code",
   "execution_count": 65,
   "metadata": {},
   "outputs": [
    {
     "data": {
      "image/png": "[encoded data removed]",
      "text/plain": [
       "<Figure size 432x288 with 1 Axes>"
      ]
     },
     "metadata": {
      "needs_background": "light"
     },
     "output_type": "display_data"
    }
   ],
   "source": [
    "# compute running statistics for mean and confidence interval \n",
    "# (start from index 2 to avoid errors with finding the mean \n",
    "# of a 0-length array or standard deviation of a 1-length array)\n",
    "win_red_mean = np.array([\n",
    "    np.average(samples[0:i]=='red') \n",
    "    for i in range(2,len(samples))\n",
    "])\n",
    "win_red_ci = z_crit*np.array([\n",
    "    stats.sem(samples[0:i]=='red') \n",
    "    for i in range(2,len(samples))\n",
    "])\n",
    "\n",
    "# create a plot to show the mean estimate with 95% confidence interval bounds\n",
    "plt.figure()\n",
    "plt.plot(range(2,len(samples)), win_red_mean, \n",
    "         'b', label='Mean Estimate')\n",
    "plt.plot(range(2,len(samples)), win_red_mean - win_red_ci, \n",
    "         'g', label='95% CI Lower Bound')\n",
    "plt.plot(range(2,len(samples)), win_red_mean + win_red_ci, \n",
    "         'r', label='95% CI Upper Bound')\n",
    "plt.xlabel('Sample')\n",
    "plt.ylabel('Estimate of $P(W=red)$')\n",
    "plt.legend(loc='best')\n",
    "plt.show()"
   ]
  },
  {
   "cell_type": "code",
   "execution_count": null,
   "metadata": {},
   "outputs": [],
   "source": []
  }
 ],
 "metadata": {
  "kernelspec": {
   "display_name": "Python 3",
   "language": "python",
   "name": "python3"
  },
  "language_info": {
   "codemirror_mode": {
    "name": "ipython",
    "version": 3
   },
   "file_extension": ".py",
   "mimetype": "text/x-python",
   "name": "python",
   "nbconvert_exporter": "python",
   "pygments_lexer": "ipython3",
   "version": "3.8.3"
  }
 },
 "nbformat": 4,
 "nbformat_minor": 4
}
